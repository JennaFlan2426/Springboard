{
 "cells": [
  {
   "cell_type": "markdown",
   "metadata": {},
   "source": [
    "### Thinking out loud, at the beginning:\n",
    "    - Wow these files are big, I'm going to need to pare down the data probably a lot.\n",
    "    - First going to be looking for \"what's the most complete data that I have for what span of time\"?\n",
    "    - What data do I actually want to focus on? (record some research on how, broadly, one comes up with a company valuation that could be comparable to market capitalization)\n",
    "    - I probably should focus my market data gathering on the day after each SEC filing is released, assuming that will be the day that stock price movements are most influenced by the filing information rather than other news or factors.\n",
    "    - My core question so far is, are market prices correlated with valuation information in some fashion?\n",
    "        - If so, which valuation information is most strongly correlated?\n",
    "        - What, if any, is the relationship between stock price/market capitalization and the business's balance sheet?\n",
    "        - Do any of these data include attempts to put a value on intangibles such as goodwill/reputation?\n",
    "        - The fundamental analysis tradition focuses on ratios of price to earnings, book value, earnings growth; do the ratios that investors find acceptable change over time? Do they tend to change back (or ahead) when SEC filings are released?\n",
    "        - (Do I have time for this?) What happens in the periods between filings? Do prices maintain a range, like the moving average support/resistance bands favored by technical analysis?\n",
    "    - Therefore, what am I looking for in the data I've found so far?\n",
    "        - As much history as I can assemble from both market data and SEC filings; will need to drop years where I have one but not the other.\n",
    "        - Focus on the Fortune 100, probably choose the 100 as of the most recent year I have data for.\n",
    "        - Market data at daily granularity, hopefully with open, high, low, and close prices for each day. Probably focus on dates related to the company's SEC filings.\n",
    "        - Still deciding what SEC filing information, partially I don't know what I have to work with yet, hoping for a moderately quick thumbnail of value related to assets, liabilities, and maybe intangibles/goodwill. Assuming earnings-per-share numbers also will be found here.\n",
    "        - If market data has already calculated P/E or other ratios, great, I can use those to sanity-check what I'm pulling in from SEC."
   ]
  },
  {
   "cell_type": "markdown",
   "metadata": {},
   "source": [
    "## First crack at a plan:"
   ]
  },
  {
   "attachments": {},
   "cell_type": "markdown",
   "metadata": {},
   "source": [
    "### Open each dataset (I have 4 right now) individually, probably not in code. \n",
    "Need to see file structure and years covered. Make decision on how much history to collect/collate.\n",
    "    - Market datasets from:\n",
    "        - https://www.kaggle.com/borismarjanovic/price-volume-data-for-all-us-stocks-etfs\n",
    "            - description does not offer a begin date but last updated in 2017-Nov\n",
    "            - data appears to be in txt files by ticker: file for AAPL dates to 1984-Sep and columns are Date,Open,High,Low,Close,Volume,OpenInt\n",
    "            - there is a comment that prices in this data are adjusted for dividends AND splits (as opposed to Yahoo Finance data, which is not or not always--not sure what that means)\n",
    "        - https://www.kaggle.com/tsaustin/us-historical-stock-prices-with-earnings-data\n",
    "            - 20 years according to description; last updated 2020-Dec\n",
    "            - Data in 4 files: stock price, earnings (estimated and reported), dividends, and a summary\n",
    "    - SEC datasets from:\n",
    "        - https://www.kaggle.com/miguelaenlle/parsed-sec-10q-filings-since-2006\n",
    "            - Since 2006 according to description; Last updated 2020-Jul\n",
    "            - Notes that ~50% of data is null, which might be 'not found in filing' or 'not found by parser'.\n",
    "            - Does have lots of promising columns like commonstocksharesissued, assetscurrent, accountspayablecurrent, commonstockvalue, liabilities, liabilitiesandstockholdersequity, stockholdersequity, earningspersharebasic, netincomeloss, profitloss, costofgoodssold, filing_date, costsandexpenses, cash \n",
    "        - https://www.kaggle.com/finnhub/reported-financials\n",
    "            - 2010-2020, according to description. Last updated 2021-Mar\n",
    "            - 4 GB data!\n",
    "            - Data is in folders by year-qtr; JSON files. Will take some work, I think, to find the tickers I want.\n",
    "            \n",
    "So, I can probably get 2010-2020 reasonably complete. Maybe 2006-2020."
   ]
  },
  {
   "cell_type": "code",
   "execution_count": 9,
   "metadata": {},
   "outputs": [],
   "source": [
    "import pandas as pd\n",
    "import os"
   ]
  },
  {
   "cell_type": "markdown",
   "metadata": {},
   "source": [
    "### Open each dataset in code and examine columns.\n",
    "See if I can choose one market and one SEC dataset; do they contain the same information? Is there just a column or two from one I can add to the other?"
   ]
  },
  {
   "cell_type": "code",
   "execution_count": 21,
   "metadata": {},
   "outputs": [
    {
     "name": "stdout",
     "output_type": "stream",
     "text": [
      "     startDate     endDate  year quarter symbol  \\\n",
      "bs  2009-08-30  2010-02-13  2010      Q2    AZO   \n",
      "cf  2009-08-30  2010-02-13  2010      Q2    AZO   \n",
      "ic  2009-08-30  2010-02-13  2010      Q2    AZO   \n",
      "\n",
      "                                                 data  \n",
      "bs  [{'label': '', 'concept': 'CashAndCashEquivale...  \n",
      "cf  [{'label': '', 'concept': 'NetIncomeLoss', 'un...  \n",
      "ic  [{'label': '', 'concept': 'SalesRevenueNet', '...  \n",
      "['AZO']\n",
      "[{'label': '', 'concept': 'CashAndCashEquivalentsAtCarryingValue', 'unit': 'usd', 'value': 105161000}, {'label': '', 'concept': 'AccountsReceivableNetCurrent', 'unit': 'usd', 'value': 147466000}, {'label': '', 'concept': 'InventoryFinishedGoods', 'unit': 'usd', 'value': 2261528000}, {'label': '', 'concept': 'OtherAssetsCurrent', 'unit': 'usd', 'value': 134558000}, {'label': '', 'concept': 'AssetsCurrent', 'unit': 'usd', 'value': 2648713000}, {'label': '', 'concept': 'PropertyPlantAndEquipmentGross', 'unit': 'usd', 'value': 3901843000}, {'label': '', 'concept': 'AccumulatedDepreciationDepletionAndAmortizationPropertyPlantAndEquipment', 'unit': 'usd', 'value': 1518700000}, {'label': '', 'concept': 'PropertyPlantAndEquipmentNet', 'unit': 'usd', 'value': 2383143000}, {'label': '', 'concept': 'Goodwill', 'unit': 'usd', 'value': 302645000}, {'label': '', 'concept': 'DeferredTaxAssetsNetNoncurrent', 'unit': 'usd', 'value': 50746000}, {'label': '', 'concept': 'OtherAssetsNoncurrent', 'unit': 'usd', 'value': 39745000}, {'label': 'Other noncurrent assets total', 'concept': 'azo:OtherNoncurrentAssetsTotal', 'unit': 'usd', 'value': 393136000}, {'label': '', 'concept': 'Assets', 'unit': 'usd', 'value': 5424992000}, {'label': '', 'concept': 'AccountsPayableCurrent', 'unit': 'usd', 'value': 2144995000}, {'label': '', 'concept': 'AccruedLiabilitiesCurrent', 'unit': 'usd', 'value': 367059000}, {'label': '', 'concept': 'AccruedIncomeTaxesCurrent', 'unit': 'usd', 'value': 72774000}, {'label': '', 'concept': 'DeferredTaxLiabilitiesCurrent', 'unit': 'usd', 'value': 164496000}, {'label': '', 'concept': 'LiabilitiesCurrent', 'unit': 'usd', 'value': 2749324000}, {'label': '', 'concept': 'LongTermDebtNoncurrent', 'unit': 'usd', 'value': 2774700000}, {'label': '', 'concept': 'OtherLiabilitiesNoncurrent', 'unit': 'usd', 'value': 322639000}, {'label': '', 'concept': 'StockholdersEquity', 'unit': 'usd', 'value': -421671000}, {'label': '', 'concept': 'LiabilitiesAndStockholdersEquity', 'unit': 'usd', 'value': 5424992000}]\n",
      "[{'label': '', 'concept': 'NetIncomeLoss', 'unit': 'usd', 'value': 266633000}, {'label': '', 'concept': 'AmortizationOfFinancingCostsAndDiscounts', 'unit': 'usd', 'value': 2999000}, {'label': '', 'concept': 'ExcessTaxBenefitFromShareBasedCompensationOperatingActivities', 'unit': 'usd', 'value': -7061000}, {'label': '', 'concept': 'DeferredIncomeTaxExpenseBenefit', 'unit': 'usd', 'value': -2145000}, {'label': '', 'concept': 'ShareBasedCompensation', 'unit': 'usd', 'value': 8867000}, {'label': '', 'concept': 'IncreaseDecreaseInAccountsReceivable', 'unit': 'usd', 'value': -20849000}, {'label': '', 'concept': 'IncreaseDecreaseInFinishedGoodsAndWorkInProcessInventories', 'unit': 'usd', 'value': -52560000}, {'label': '', 'concept': 'IncreaseDecreaseInAccountsPayableAndAccruedLiabilities', 'unit': 'usd', 'value': 9965000}, {'label': '', 'concept': 'IncreaseDecreaseInAccruedIncomeTaxesPayable', 'unit': 'usd', 'value': 46532000}, {'label': '', 'concept': 'IncreaseDecreaseInOtherOperatingCapitalNet', 'unit': 'usd', 'value': 9428000}, {'label': '', 'concept': 'NetCashProvidedByUsedInOperatingActivities', 'unit': 'usd', 'value': 348908000}, {'label': '', 'concept': 'PaymentsToAcquirePropertyPlantAndEquipment', 'unit': 'usd', 'value': 111128000}, {'label': '', 'concept': 'PaymentsToAcquireMarketableSecurities', 'unit': 'usd', 'value': 10467000}, {'label': '', 'concept': 'ProceedsFromSaleAndMaturityOfMarketableSecurities', 'unit': 'usd', 'value': 8015000}, {'label': '', 'concept': 'ProceedsFromSaleOfProductiveAssets', 'unit': 'usd', 'value': 4231000}, {'label': '', 'concept': 'NetCashProvidedByUsedInInvestingActivities', 'unit': 'usd', 'value': -109349000}, {'label': '', 'concept': 'ProceedsFromRepaymentsOfShortTermDebtMaturingInThreeMonthsOrLess', 'unit': 'usd', 'value': 47800000}, {'label': '', 'concept': 'ProceedsFromIssuanceOfSharesUnderIncentiveAndShareBasedCompensationPlansIncludingStockOptions', 'unit': 'usd', 'value': 18726000}, {'label': '', 'concept': 'PaymentsForRepurchaseOfCommonStock', 'unit': 'usd', 'value': 291888000}, {'label': '', 'concept': 'ExcessTaxBenefitFromShareBasedCompensationFinancingActivities', 'unit': 'usd', 'value': 7061000}, {'label': '', 'concept': 'RepaymentsOfLongTermCapitalLeaseObligations', 'unit': 'usd', 'value': 9084000}, {'label': '', 'concept': 'NetCashProvidedByUsedInFinancingActivities', 'unit': 'usd', 'value': -227385000}, {'label': '', 'concept': 'EffectOfExchangeRateOnCashAndCashEquivalents', 'unit': 'usd', 'value': 281000}, {'label': '', 'concept': 'CashAndCashEquivalentsPeriodIncreaseDecrease', 'unit': 'usd', 'value': 12455000}, {'label': '', 'concept': 'DepreciationDepletionAndAmortization', 'unit': 'usd', 'value': 87099000}]\n",
      "[{'label': '', 'concept': 'SalesRevenueNet', 'unit': 'usd', 'value': 3095469000}, {'label': '', 'concept': 'CostOfGoodsAndServicesSold', 'unit': 'usd', 'value': 1541809000}, {'label': '', 'concept': 'GrossProfit', 'unit': 'usd', 'value': 1553660000}, {'label': '', 'concept': 'OperatingExpenses', 'unit': 'usd', 'value': 1062850000}, {'label': '', 'concept': 'OperatingIncomeLoss', 'unit': 'usd', 'value': 490810000}, {'label': '', 'concept': 'InterestExpense', 'unit': 'usd', 'value': 72650000}, {'label': '', 'concept': 'IncomeLossFromContinuingOperationsBeforeIncomeTaxesMinorityInterestAndIncomeLossFromEquityMethodInvestments', 'unit': 'usd', 'value': 418160000}, {'label': '', 'concept': 'IncomeTaxExpenseBenefit', 'unit': 'usd', 'value': 151527000}, {'label': '', 'concept': 'NetIncomeLoss', 'unit': 'usd', 'value': 266633000}, {'label': '', 'concept': 'WeightedAverageNumberOfSharesOutstandingBasic', 'unit': 'shares', 'value': 49775000}, {'label': '', 'concept': 'WeightedAverageNumberDilutedSharesOutstandingAdjustment', 'unit': 'shares', 'value': 730000}, {'label': '', 'concept': 'WeightedAverageNumberOfDilutedSharesOutstanding', 'unit': 'shares', 'value': 50505000}, {'label': '', 'concept': 'EarningsPerShareBasic', 'unit': 'usd/shares', 'value': 5.36}, {'label': '', 'concept': 'EarningsPerShareDiluted', 'unit': 'usd/shares', 'value': 5.28}]\n"
     ]
    }
   ],
   "source": [
    "# Note some of this code may not work as written except on my own computer, or if you download the datasets like I did.\n",
    "# Not planning to upload all this data, it's waaay too much.\n",
    "\n",
    "finnhub_df = pd.read_json('0000950123-10-025907.json')\n",
    "print(finnhub_df.head(10))\n",
    "print(finnhub_df['symbol'].unique())\n",
    "print(finnhub_df.data['bs'])\n",
    "print(finnhub_df.data['cf'])\n",
    "print(finnhub_df.data['ic'])"
   ]
  },
  {
   "cell_type": "code",
   "execution_count": 22,
   "metadata": {},
   "outputs": [
    {
     "name": "stdout",
     "output_type": "stream",
     "text": [
      "     startDate     endDate  year quarter symbol  \\\n",
      "bs  2009-06-01  2010-02-28  2010      Q3   PAYX   \n",
      "cf  2009-06-01  2010-02-28  2010      Q3   PAYX   \n",
      "ic  2009-06-01  2010-02-28  2010      Q3   PAYX   \n",
      "\n",
      "                                                 data  \n",
      "bs  [{'label': '', 'concept': 'CashAndCashEquivale...  \n",
      "cf  [{'label': '', 'concept': 'NetIncomeLoss', 'un...  \n",
      "ic  [{'label': '', 'concept': 'SalesRevenueService...  \n",
      "['PAYX']\n",
      "[{'label': '', 'concept': 'CashAndCashEquivalentsAtCarryingValue', 'unit': 'usd', 'value': 279261000}, {'label': '', 'concept': 'MarketableSecuritiesCurrent', 'unit': 'usd', 'value': 115765000}, {'label': '', 'concept': 'InterestReceivableCurrent', 'unit': 'usd', 'value': 22591000}, {'label': '', 'concept': 'AccountsReceivableNetCurrent', 'unit': 'usd', 'value': 159131000}, {'label': '', 'concept': 'DeferredTaxAssetsNetCurrent', 'unit': 'usd', 'value': 23221000}, {'label': '', 'concept': 'PrepaidTaxes', 'unit': 'usd', 'value': 0}, {'label': '', 'concept': 'OtherAssetsCurrent', 'unit': 'usd', 'value': 25035000}, {'label': 'Current assets before funds held for clients', 'concept': 'payx:CurrentAssetsBeforeFundsHeldForClients', 'unit': 'usd', 'value': 625004000}, {'label': '', 'concept': 'FundsHeldForClients', 'unit': 'usd', 'value': 4091527000}, {'label': '', 'concept': 'AssetsCurrent', 'unit': 'usd', 'value': 4716531000}, {'label': '', 'concept': 'MarketableSecuritiesNoncurrent', 'unit': 'usd', 'value': 294088000}, {'label': '', 'concept': 'PropertyPlantAndEquipmentNet', 'unit': 'usd', 'value': 264273000}, {'label': '', 'concept': 'IntangibleAssetsNetExcludingGoodwill', 'unit': 'usd', 'value': 68085000}, {'label': '', 'concept': 'Goodwill', 'unit': 'usd', 'value': 421559000}, {'label': '', 'concept': 'DeferredTaxAssetsNetNoncurrent', 'unit': 'usd', 'value': 19723000}, {'label': '', 'concept': 'OtherAssetsNoncurrent', 'unit': 'usd', 'value': 3772000}, {'label': '', 'concept': 'Assets', 'unit': 'usd', 'value': 5788031000}, {'label': '', 'concept': 'AccountsPayableCurrent', 'unit': 'usd', 'value': 35081000}, {'label': '', 'concept': 'EmployeeRelatedLiabilitiesCurrent', 'unit': 'usd', 'value': 128745000}, {'label': '', 'concept': 'DeferredRevenueCurrent', 'unit': 'usd', 'value': 3792000}, {'label': '', 'concept': 'AccruedIncomeTaxesCurrent', 'unit': 'usd', 'value': 23531000}, {'label': '', 'concept': 'DeferredTaxLiabilitiesCurrent', 'unit': 'usd', 'value': 19463000}, {'label': '', 'concept': 'LitigationReserveCurrent', 'unit': 'usd', 'value': 39096000}, {'label': '', 'concept': 'OtherLiabilitiesCurrent', 'unit': 'usd', 'value': 41314000}, {'label': 'Current liabilities before client fund obligations', 'concept': 'payx:CurrentLiabilitiesBeforeClientFundObligations', 'unit': 'usd', 'value': 291022000}, {'label': 'Client fund obligations', 'concept': 'payx:ClientFundObligations', 'unit': 'usd', 'value': 4021401000}, {'label': '', 'concept': 'LiabilitiesCurrent', 'unit': 'usd', 'value': 4312423000}, {'label': '', 'concept': 'AccruedIncomeTaxesNoncurrent', 'unit': 'usd', 'value': 27305000}, {'label': '', 'concept': 'DeferredTaxLiabilitiesNoncurrent', 'unit': 'usd', 'value': 5786000}, {'label': '', 'concept': 'OtherLiabilitiesNoncurrent', 'unit': 'usd', 'value': 45397000}, {'label': '', 'concept': 'Liabilities', 'unit': 'usd', 'value': 4390911000}, {'label': '', 'concept': 'CommonStockValue', 'unit': 'usd', 'value': 3614000}, {'label': '', 'concept': 'AdditionalPaidInCapitalCommonStock', 'unit': 'usd', 'value': 492008000}, {'label': '', 'concept': 'RetainedEarningsAccumulatedDeficit', 'unit': 'usd', 'value': 852936000}, {'label': '', 'concept': 'AccumulatedOtherComprehensiveIncomeLossNetOfTax', 'unit': 'usd', 'value': 48562000}, {'label': '', 'concept': 'StockholdersEquity', 'unit': 'usd', 'value': 1397120000}, {'label': '', 'concept': 'LiabilitiesAndStockholdersEquity', 'unit': 'usd', 'value': 5788031000}]\n",
      "[{'label': '', 'concept': 'NetIncomeLoss', 'unit': 'usd', 'value': 361477000}, {'label': '', 'concept': 'DepreciationAndAmortization', 'unit': 'usd', 'value': 64894000}, {'label': '', 'concept': 'AccretionAmortizationOfDiscountsAndPremiumsInvestments', 'unit': 'usd', 'value': 25791000}, {'label': '', 'concept': 'ShareBasedCompensation', 'unit': 'usd', 'value': 19121000}, {'label': '', 'concept': 'DeferredIncomeTaxExpenseBenefit', 'unit': 'usd', 'value': -24862000}, {'label': '', 'concept': 'ProvisionForDoubtfulAccounts', 'unit': 'usd', 'value': 1847000}, {'label': 'Provision for pending legal matters', 'concept': 'payx:ProvisionForPendingLegalMatters', 'unit': 'usd', 'value': 18700000}, {'label': '', 'concept': 'GainLossOnSaleOfInvestments', 'unit': 'usd', 'value': -2289000}, {'label': '', 'concept': 'IncreaseDecreaseInAccruedInterestReceivableNet', 'unit': 'usd', 'value': 5131000}, {'label': '', 'concept': 'IncreaseDecreaseInAccountsReceivable', 'unit': 'usd', 'value': 18050000}, {'label': '', 'concept': 'IncreaseDecreaseInPrepaidDeferredExpenseAndOtherAssets', 'unit': 'usd', 'value': 4588000}, {'label': '', 'concept': 'IncreaseDecreaseInAccountsPayableAndAccruedLiabilities', 'unit': 'usd', 'value': 11369000}, {'label': '', 'concept': 'IncreaseDecreaseInOtherOperatingCapitalNet', 'unit': 'usd', 'value': -801000}, {'label': '', 'concept': 'NetCashProvidedByUsedInOperatingActivities', 'unit': 'usd', 'value': 503016000}, {'label': '', 'concept': 'PaymentsToAcquireAvailableForSaleSecurities', 'unit': 'usd', 'value': 1267658000}, {'label': '', 'concept': 'ProceedsFromSaleAndMaturityOfAvailableForSaleSecurities', 'unit': 'usd', 'value': 416348000}, {'label': \"Net change in funds held for clients' money market securities and other cash equivalents\", 'concept': 'payx:NetChangeInFundsHeldForClientsMoneyMarketSecuritiesAndOtherCashEquivalents', 'unit': 'usd', 'value': -59857000}, {'label': '', 'concept': 'PaymentsToAcquirePropertyPlantAndEquipment', 'unit': 'usd', 'value': 41444000}, {'label': '', 'concept': 'ProceedsFromDivestitureOfBusinesses', 'unit': 'usd', 'value': 13050000}, {'label': '', 'concept': 'PaymentsToAcquireOtherProductiveAssets', 'unit': 'usd', 'value': 11295000}, {'label': '', 'concept': 'NetCashProvidedByUsedInInvestingActivities', 'unit': 'usd', 'value': -950856000}, {'label': 'Net change in client fund obligations', 'concept': 'payx:NetChangeInClientFundObligations', 'unit': 'usd', 'value': 583722000}, {'label': '', 'concept': 'PaymentsOfDividendsCommonStock', 'unit': 'usd', 'value': 336390000}, {'label': 'Proceeds from and excess tax benefit related to exercise of stock options', 'concept': 'payx:ProceedsFromAndExcessTaxBenefitRelatedToExerciseOfStockOptions', 'unit': 'usd', 'value': 7000000}, {'label': '', 'concept': 'NetCashProvidedByUsedInFinancingActivities', 'unit': 'usd', 'value': 254332000}, {'label': '', 'concept': 'CashAndCashEquivalentsPeriodIncreaseDecrease', 'unit': 'usd', 'value': -193508000}]\n",
      "[{'label': '', 'concept': 'SalesRevenueServicesNet', 'unit': 'usd', 'value': 1463305000}, {'label': 'Interest on funds held for clients', 'concept': 'payx:InterestOnFundsHeldForClients', 'unit': 'usd', 'value': 41304000}, {'label': '', 'concept': 'Revenues', 'unit': 'usd', 'value': 1504609000}, {'label': '', 'concept': 'OperatingCostsAndExpenses', 'unit': 'usd', 'value': 490502000}, {'label': '', 'concept': 'SellingGeneralAndAdministrativeExpense', 'unit': 'usd', 'value': 462926000}, {'label': '', 'concept': 'CostsAndExpenses', 'unit': 'usd', 'value': 953428000}, {'label': '', 'concept': 'OperatingIncomeLoss', 'unit': 'usd', 'value': 551181000}, {'label': '', 'concept': 'InvestmentIncomeNonoperating', 'unit': 'usd', 'value': 3232000}, {'label': '', 'concept': 'IncomeLossFromContinuingOperationsBeforeIncomeTaxesMinorityInterestAndIncomeLossFromEquityMethodInvestments', 'unit': 'usd', 'value': 554413000}, {'label': '', 'concept': 'IncomeTaxExpenseBenefit', 'unit': 'usd', 'value': 192936000}, {'label': '', 'concept': 'NetIncomeLoss', 'unit': 'usd', 'value': 361477000}, {'label': '', 'concept': 'EarningsPerShareBasic', 'unit': 'usd/shares', 'value': 1}, {'label': '', 'concept': 'EarningsPerShareDiluted', 'unit': 'usd/shares', 'value': 1}, {'label': '', 'concept': 'WeightedAverageNumberOfSharesOutstandingBasic', 'unit': 'shares', 'value': 361328000}, {'label': '', 'concept': 'WeightedAverageNumberOfDilutedSharesOutstanding', 'unit': 'shares', 'value': 361627000}, {'label': '', 'concept': 'CommonStockDividendsPerShareCashPaid', 'unit': 'usd/shares', 'value': 0.93}]\n"
     ]
    }
   ],
   "source": [
    "finnhub_df2 = pd.read_json('0000950123-10-027758.json')\n",
    "print(finnhub_df2.head(10))\n",
    "print(finnhub_df2['symbol'].unique())\n",
    "print(finnhub_df2.data['bs'])\n",
    "print(finnhub_df2.data['cf'])\n",
    "print(finnhub_df2.data['ic'])"
   ]
  },
  {
   "cell_type": "code",
   "execution_count": 24,
   "metadata": {},
   "outputs": [
    {
     "name": "stdout",
     "output_type": "stream",
     "text": [
      "D:\\Documents\\GitHub\\Springboard\\Capstone2-Stock_price_vs_sec_filings\n"
     ]
    }
   ],
   "source": [
    "print(os.getcwd())"
   ]
  },
  {
   "cell_type": "code",
   "execution_count": 26,
   "metadata": {},
   "outputs": [
    {
     "name": "stdout",
     "output_type": "stream",
     "text": [
      "     startDate     endDate  year quarter symbol  \\\n",
      "bs  2009-02-01  2010-01-30  2010      FY    TJX   \n",
      "cf  2009-02-01  2010-01-30  2010      FY    TJX   \n",
      "ic  2009-02-01  2010-01-30  2010      FY    TJX   \n",
      "\n",
      "                                                 data  \n",
      "bs  [{'label': '', 'concept': 'CashAndCashEquivale...  \n",
      "cf  [{'label': '', 'concept': 'ProfitLoss', 'unit'...  \n",
      "ic  [{'label': '', 'concept': 'Revenues', 'unit': ...  \n"
     ]
    }
   ],
   "source": [
    "finnhub_df3 = pd.read_json('0000950123-10-029845.json')\n",
    "print(finnhub_df3.head(10))"
   ]
  },
  {
   "cell_type": "code",
   "execution_count": 27,
   "metadata": {},
   "outputs": [
    {
     "name": "stdout",
     "output_type": "stream",
     "text": [
      "     startDate     endDate  year quarter symbol  \\\n",
      "bs  2009-01-01  2009-12-31  2009      FY    MRK   \n",
      "cf  2009-01-01  2009-12-31  2009      FY    MRK   \n",
      "ic  2009-01-01  2009-12-31  2009      FY    MRK   \n",
      "\n",
      "                                                 data  \n",
      "bs  [{'label': '', 'concept': 'CashAndCashEquivale...  \n",
      "cf  [{'label': '', 'concept': 'ProfitLoss', 'unit'...  \n",
      "ic  [{'label': '', 'concept': 'Revenues', 'unit': ...  \n"
     ]
    }
   ],
   "source": [
    "finnhub_df4 = pd.read_json('0000950123-10-030079.json')\n",
    "print(finnhub_df4.head(10))"
   ]
  },
  {
   "cell_type": "markdown",
   "metadata": {},
   "source": [
    "### Choose 100 companies and pull their data into new files to reduce data sizes. \n",
    "Let's try the 2020 Fortune 100.\n",
    "Data retrieved from https://fortune.com/fortune500/2020/search/?rank=asc\n",
    "Spent a bunch of time massaging the text as copied back into tabular format. Spent a bunch more time going through each company's profile page to pull out ticker symbols. Hopefully an employer would have a better way to access the data, but it's good enough for this project. They want \\$500 or more for a data file and don't talk about having an API that I can see.\n",
    "\n",
    "Some ticker notes:\n",
    "    - There are a bunch of companies (especially mutual insurance companies) without tickers, so I'm going to end up with less than 100 companies. Expand search or leave it?\n",
    "    - Will I need to look out for name changes (esp ticker changes)?\n",
    "    - Albertsons has a ticker but IPO was last year sometime so may not have data"
   ]
  },
  {
   "cell_type": "markdown",
   "metadata": {},
   "source": [
    "Begin EDA, look for cleaning needs. "
   ]
  },
  {
   "cell_type": "markdown",
   "metadata": {},
   "source": [
    "Figure out how best to pull only the SEC-related dates of market data, assuming that dates will generally be different for each company."
   ]
  },
  {
   "cell_type": "markdown",
   "metadata": {},
   "source": [
    "Calculate (can I sanity-check somehow?) fundamental analysis ratios: P/E, P/E/G, price/book."
   ]
  },
  {
   "cell_type": "markdown",
   "metadata": {},
   "source": [
    "Other tasks as I think of them while exploring!\n",
    "    - Do I have data that shows market capitalization? Or shares outstanding, so I can calculate?\n",
    "    - How does one adjust prices for dividends, splits? What price do I need to use to calculate ratios, market cap, etc?"
   ]
  },
  {
   "cell_type": "markdown",
   "metadata": {},
   "source": [
    "Questions for later:\n",
    "    - Once I produce something with this, should I share it on Kaggle? If I've combined datasets, can I link my code to both of them?\n",
    "    - Can or should I try to confirm that Yahoo Finance is a bad place to get stock data from? (see notes on first market dataset above)\n",
    "    - Suddenly, after importing a couple hundred thousand files, GitHub desktop can't find my repository... it can find sub-repositories like the ones I cloned from other projects but not my main Springboard folder.\n",
    "    - How do I make Pandas read from somewhere other than the working directory?\n",
    "    - How do I pull out the data I want from these JSON files and save for later? As dataframe, csv, something else?\n",
    "    - Any ideas how I figure out what the 'bs/cf/ic' categories (row labels) are in the JSON files?\n",
    "    - Can I pull additional company data from the Fortune site? Should I? https://fortune.com/company/stonex-group/fortune500/"
   ]
  },
  {
   "cell_type": "markdown",
   "metadata": {},
   "source": [
    "Research:\n",
    "https://www.investopedia.com/terms/a/adjusted_closing_price.asp\n",
    "https://www.investopedia.com/articles/fundamental-analysis/08/sec-forms.asp"
   ]
  }
 ],
 "metadata": {
  "kernelspec": {
   "display_name": "Python 3",
   "language": "python",
   "name": "python3"
  },
  "language_info": {
   "codemirror_mode": {
    "name": "ipython",
    "version": 3
   },
   "file_extension": ".py",
   "mimetype": "text/x-python",
   "name": "python",
   "nbconvert_exporter": "python",
   "pygments_lexer": "ipython3",
   "version": "3.8.5"
  }
 },
 "nbformat": 4,
 "nbformat_minor": 4
}
