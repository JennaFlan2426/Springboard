{
 "cells": [
  {
   "cell_type": "markdown",
   "metadata": {},
   "source": [
    "# Beginning state:\n",
    "- For preliminaries, see \"Initial Data Gathering\" notebook, with the caveat that I did NOT upload the associated data, so you won't be able to re-run the notebook. As downloaded from the multiple Kaggle datasets there were 4+ GB of data and 200K+ individual files.\n",
    "- For this notebook, I have combed through those initial datasets to collect data on as many of the 2020 Fortune 100 companies as I could match by ticker/symbol, and produced CSV files of those initial reduced datasets that I was able to upload, so you should be able to re-run this notebook if you have access to my \"RawData\" folder."
   ]
  },
  {
   "cell_type": "markdown",
   "metadata": {},
   "source": [
    "## Goals and notes:\n",
    "- Concentrating, for now, on balance-sheet data vs price data.\n",
    "- Goal is to look for correlations between balance-sheet information, price data, and possibly some calculated fields like P/E ratio, market capitalization, etc.\n",
    "    - I intend to limit price data to the area around the date of each filing, assuming that price movements between the day before/day of/day after the filing are the most likely to reflect the influence of the new information.\n",
    "    - This means I may need to be pretty careful about getting the \"right\" release date.\n",
    "- I have two different datasets for each of market and financial data. Need to make some decisions about whether I collate data or pick one dataset and stick with that.\n",
    "    - I am suspicious of one of the market datasets; price data seemed artificially low and there is a comment on Kaggle that the creator has \"adjusted\" all of the price data to account for dividends and splits. Not sure if this will suit my current purpose.\n",
    "- I suspect most of the work is going to be in the Finnhub data (the bigger financials dataset). Files are currently organized by rows in which each row is a \"topic\" within a filing, so it's hard to see which topics appear repeatedly and which will turn out to be sparse across many companies and many filings.\n",
    "    - Beware the sunk costs... I really don't want to toss out this data, I spent a lot of work figuring out how to get it into its current state. But, the other financials dataset is already columnar and will be simpler to work with.\n",
    "    - On the other hand, that means I don't know how the creator of the simpler dataset did the simplifying.\n",
    "- My ideal is to produce a dataframe that contains something like:\n",
    "    - Filing date\n",
    "    - Filing metadata (quarter/FY, anything else that seems important)\n",
    "    - Company ticker\n",
    "    - <balance sheet categories, possibly the least-sparse of them>\n",
    "    - Close price date - 1\n",
    "    - Close price date + 0\n",
    "    - Close price date + 1\n",
    "    - Stock data like earnings, dividends, and shares outstanding\n",
    "    "
   ]
  },
  {
   "cell_type": "markdown",
   "metadata": {},
   "source": [
    "## 1. Start with the simple\n",
    "- I'm going to pick the \"historical financials\" aka the simpler SEC dataset, and the \"historical prices\" market dataset aka the one I'm less suspicious of its price data."
   ]
  },
  {
   "cell_type": "code",
   "execution_count": 1,
   "metadata": {},
   "outputs": [],
   "source": [
    "import pandas as pd\n",
    "import os\n",
    "\n",
    "data_dir = os.path.join(os.getcwd(), 'RawData')"
   ]
  },
  {
   "cell_type": "code",
   "execution_count": 9,
   "metadata": {},
   "outputs": [
    {
     "name": "stdout",
     "output_type": "stream",
     "text": [
      "    commonstocksharesissued  assetscurrent  accountspayablecurrent  \\\n",
      "11                   1000.0   1.789100e+10            1.625000e+09   \n",
      "12                   1000.0   1.838000e+10            1.580000e+09   \n",
      "13                   1000.0   1.705600e+10            1.546000e+09   \n",
      "14                   1000.0   1.705600e+10            1.546000e+09   \n",
      "15                   1000.0   1.705600e+10            1.546000e+09   \n",
      "\n",
      "    commonstockvalue  liabilities  liabilitiesandstockholdersequity  \\\n",
      "11               NaN          NaN                      6.001200e+10   \n",
      "12               NaN          NaN                      6.079300e+10   \n",
      "13               NaN          NaN                      5.809200e+10   \n",
      "14               NaN          NaN                      5.809200e+10   \n",
      "15               NaN          NaN                      5.809200e+10   \n",
      "\n",
      "    stockholdersequity  earningspersharebasic  netincomeloss  profitloss  ...  \\\n",
      "11       -7.800000e+08                   3.92   1.282000e+09         NaN  ...   \n",
      "12        1.441000e+10                   3.37   1.738000e+09         NaN  ...   \n",
      "13        1.264900e+10                   1.64   8.270000e+08         NaN  ...   \n",
      "14        1.264900e+10                   1.15   7.100000e+08         NaN  ...   \n",
      "15        1.640000e+09                   0.56   3.410000e+08         NaN  ...   \n",
      "\n",
      "    officerscompensation intangibleassetscurrent  salariesandwages  \\\n",
      "11                   NaN                     NaN               NaN   \n",
      "12                   NaN                     NaN               NaN   \n",
      "13                   NaN                     NaN               NaN   \n",
      "14                   NaN                     NaN               NaN   \n",
      "15                   NaN                     NaN               NaN   \n",
      "\n",
      "    interestanddebtexpense  convertibledebt  assetmanagementcosts  \\\n",
      "11                     NaN              NaN                   NaN   \n",
      "12                     NaN              NaN                   NaN   \n",
      "13                     NaN              NaN                   NaN   \n",
      "14                     NaN              NaN                   NaN   \n",
      "15                     NaN              NaN                   NaN   \n",
      "\n",
      "    accountsreceivablegross  directoperatingcosts  operatingcycle  stock  \n",
      "11                      NaN                   NaN             NaN    AAL  \n",
      "12                      NaN                   NaN             NaN    AAL  \n",
      "13                      NaN                   NaN             NaN    AAL  \n",
      "14                      NaN                   NaN             NaN    AAL  \n",
      "15                      NaN                   NaN             NaN    AAL  \n",
      "\n",
      "[5 rows x 44 columns]\n"
     ]
    }
   ],
   "source": [
    "hf_df = pd.read_csv(os.path.join(data_dir, 'HF-financials-tickers.csv'), parse_dates=['filing_date'], index_col=0)\n",
    "print(hf_df.head())"
   ]
  },
  {
   "cell_type": "code",
   "execution_count": 10,
   "metadata": {},
   "outputs": [
    {
     "name": "stdout",
     "output_type": "stream",
     "text": [
      "<class 'pandas.core.frame.DataFrame'>\n",
      "Int64Index: 2743 entries, 11 to 100690\n",
      "Data columns (total 44 columns):\n",
      " #   Column                            Non-Null Count  Dtype         \n",
      "---  ------                            --------------  -----         \n",
      " 0   commonstocksharesissued           2471 non-null   float64       \n",
      " 1   assetscurrent                     2375 non-null   float64       \n",
      " 2   accountspayablecurrent            2083 non-null   float64       \n",
      " 3   commonstockvalue                  2160 non-null   float64       \n",
      " 4   liabilities                       1751 non-null   float64       \n",
      " 5   liabilitiesandstockholdersequity  2743 non-null   float64       \n",
      " 6   stockholdersequity                2503 non-null   float64       \n",
      " 7   earningspersharebasic             2739 non-null   float64       \n",
      " 8   netincomeloss                     2639 non-null   float64       \n",
      " 9   profitloss                        1906 non-null   float64       \n",
      " 10  costofgoodssold                   1168 non-null   float64       \n",
      " 11  filing_date                       2743 non-null   datetime64[ns]\n",
      " 12  costsandexpenses                  1089 non-null   float64       \n",
      " 13  cash                              635 non-null    float64       \n",
      " 14  notespayable                      345 non-null    float64       \n",
      " 15  preferredstockvalue               323 non-null    float64       \n",
      " 16  depreciation                      1815 non-null   float64       \n",
      " 17  operatingexpenses                 855 non-null    float64       \n",
      " 18  revenues                          2072 non-null   float64       \n",
      " 19  land                              757 non-null    float64       \n",
      " 20  accountsreceivablenet             222 non-null    float64       \n",
      " 21  deferredrevenue                   461 non-null    float64       \n",
      " 22  grossprofit                       1259 non-null   float64       \n",
      " 23  sharesissued                      882 non-null    float64       \n",
      " 24  accruedincometaxes                126 non-null    float64       \n",
      " 25  sharesoutstanding                 400 non-null    float64       \n",
      " 26  borrowedfunds                     18 non-null     float64       \n",
      " 27  inventorygross                    196 non-null    float64       \n",
      " 28  commercialpaper                   1093 non-null   float64       \n",
      " 29  dividends                         421 non-null    float64       \n",
      " 30  commonstocknoparvalue             6 non-null      float64       \n",
      " 31  costofservices                    500 non-null    float64       \n",
      " 32  debtcurrent                       1230 non-null   float64       \n",
      " 33  accruedinsurancecurrent           183 non-null    float64       \n",
      " 34  officerscompensation              16 non-null     float64       \n",
      " 35  intangibleassetscurrent           0 non-null      float64       \n",
      " 36  salariesandwages                  39 non-null     float64       \n",
      " 37  interestanddebtexpense            385 non-null    float64       \n",
      " 38  convertibledebt                   124 non-null    float64       \n",
      " 39  assetmanagementcosts              0 non-null      float64       \n",
      " 40  accountsreceivablegross           0 non-null      float64       \n",
      " 41  directoperatingcosts              0 non-null      float64       \n",
      " 42  operatingcycle                    34 non-null     object        \n",
      " 43  stock                             2743 non-null   object        \n",
      "dtypes: datetime64[ns](1), float64(41), object(2)\n",
      "memory usage: 964.3+ KB\n",
      "None\n"
     ]
    }
   ],
   "source": [
    "print(hf_df.info())"
   ]
  },
  {
   "cell_type": "markdown",
   "metadata": {},
   "source": [
    "Yup, this data is pretty sparse. I see a few columns off the bat I should drop because they contain no non-null values. "
   ]
  },
  {
   "cell_type": "code",
   "execution_count": 30,
   "metadata": {},
   "outputs": [
    {
     "name": "stdout",
     "output_type": "stream",
     "text": [
      "<class 'pandas.core.frame.DataFrame'>\n",
      "RangeIndex: 2743 entries, 0 to 2742\n",
      "Data columns (total 41 columns):\n",
      " #   Column                            Non-Null Count  Dtype         \n",
      "---  ------                            --------------  -----         \n",
      " 0   index                             2743 non-null   int64         \n",
      " 1   commonstocksharesissued           2471 non-null   float64       \n",
      " 2   assetscurrent                     2375 non-null   float64       \n",
      " 3   accountspayablecurrent            2083 non-null   float64       \n",
      " 4   commonstockvalue                  2160 non-null   float64       \n",
      " 5   liabilities                       1751 non-null   float64       \n",
      " 6   liabilitiesandstockholdersequity  2743 non-null   float64       \n",
      " 7   stockholdersequity                2503 non-null   float64       \n",
      " 8   earningspersharebasic             2739 non-null   float64       \n",
      " 9   netincomeloss                     2639 non-null   float64       \n",
      " 10  profitloss                        1906 non-null   float64       \n",
      " 11  costofgoodssold                   1168 non-null   float64       \n",
      " 12  date                              2743 non-null   datetime64[ns]\n",
      " 13  costsandexpenses                  1089 non-null   float64       \n",
      " 14  cash                              635 non-null    float64       \n",
      " 15  notespayable                      345 non-null    float64       \n",
      " 16  preferredstockvalue               323 non-null    float64       \n",
      " 17  depreciation                      1815 non-null   float64       \n",
      " 18  operatingexpenses                 855 non-null    float64       \n",
      " 19  revenues                          2072 non-null   float64       \n",
      " 20  land                              757 non-null    float64       \n",
      " 21  accountsreceivablenet             222 non-null    float64       \n",
      " 22  deferredrevenue                   461 non-null    float64       \n",
      " 23  grossprofit                       1259 non-null   float64       \n",
      " 24  sharesissued                      882 non-null    float64       \n",
      " 25  accruedincometaxes                126 non-null    float64       \n",
      " 26  sharesoutstanding                 400 non-null    float64       \n",
      " 27  borrowedfunds                     18 non-null     float64       \n",
      " 28  inventorygross                    196 non-null    float64       \n",
      " 29  commercialpaper                   1093 non-null   float64       \n",
      " 30  dividends                         421 non-null    float64       \n",
      " 31  commonstocknoparvalue             6 non-null      float64       \n",
      " 32  costofservices                    500 non-null    float64       \n",
      " 33  debtcurrent                       1230 non-null   float64       \n",
      " 34  accruedinsurancecurrent           183 non-null    float64       \n",
      " 35  officerscompensation              16 non-null     float64       \n",
      " 36  salariesandwages                  39 non-null     float64       \n",
      " 37  interestanddebtexpense            385 non-null    float64       \n",
      " 38  convertibledebt                   124 non-null    float64       \n",
      " 39  operatingcycle                    34 non-null     object        \n",
      " 40  ticker                            2743 non-null   object        \n",
      "dtypes: datetime64[ns](1), float64(37), int64(1), object(2)\n",
      "memory usage: 878.7+ KB\n",
      "None\n"
     ]
    }
   ],
   "source": [
    "hf_df2 = hf_df.dropna(axis='columns', how='all').reset_index()\n",
    "hf_df2.rename({'stock':'ticker', 'filing_date':'date'}, axis=1, inplace=True) # need to normalize column names\n",
    "print(hf_df2.info())"
   ]
  },
  {
   "cell_type": "markdown",
   "metadata": {},
   "source": [
    "While I think about \"how sparse is too sparse\" for some of these columns, will try pulling in share price and earnings data."
   ]
  },
  {
   "cell_type": "code",
   "execution_count": 17,
   "metadata": {},
   "outputs": [
    {
     "name": "stdout",
     "output_type": "stream",
     "text": [
      "  symbol       date   open   high    low  close  close_adjusted     volume  \\\n",
      "0   MSFT 2016-05-16  50.80  51.96  50.75  51.83         49.7013   20032017   \n",
      "1   MSFT 2002-01-16  68.85  69.84  67.85  67.87         22.5902   30977700   \n",
      "2   MSFT 2001-09-18  53.41  55.00  53.17  54.32         18.0802   41591300   \n",
      "3   MSFT 2007-10-26  36.01  36.03  34.56  35.03         27.2232  288121200   \n",
      "4   MSFT 2014-06-27  41.61  42.29  41.51  42.25         38.6773   74640000   \n",
      "\n",
      "   split_coefficient  \n",
      "0                1.0  \n",
      "1                1.0  \n",
      "2                1.0  \n",
      "3                1.0  \n",
      "4                1.0  \n"
     ]
    }
   ],
   "source": [
    "pr_df = pd.read_csv(os.path.join(data_dir, 'HP-market-ticker-prices.csv'), index_col=0, parse_dates=['date'])\n",
    "print(pr_df.head())"
   ]
  },
  {
   "cell_type": "code",
   "execution_count": 18,
   "metadata": {},
   "outputs": [
    {
     "name": "stdout",
     "output_type": "stream",
     "text": [
      "<class 'pandas.core.frame.DataFrame'>\n",
      "Int64Index: 437565 entries, 0 to 23526281\n",
      "Data columns (total 9 columns):\n",
      " #   Column             Non-Null Count   Dtype         \n",
      "---  ------             --------------   -----         \n",
      " 0   symbol             437565 non-null  object        \n",
      " 1   date               437565 non-null  datetime64[ns]\n",
      " 2   open               437565 non-null  float64       \n",
      " 3   high               437565 non-null  float64       \n",
      " 4   low                437565 non-null  float64       \n",
      " 5   close              437565 non-null  float64       \n",
      " 6   close_adjusted     437565 non-null  float64       \n",
      " 7   volume             437565 non-null  int64         \n",
      " 8   split_coefficient  437565 non-null  float64       \n",
      "dtypes: datetime64[ns](1), float64(6), int64(1), object(1)\n",
      "memory usage: 33.4+ MB\n",
      "None\n"
     ]
    }
   ],
   "source": [
    "print(pr_df.info())"
   ]
  },
  {
   "cell_type": "markdown",
   "metadata": {},
   "source": [
    "If I multi-index these by ticker and date, will that make it easier to combine them?"
   ]
  },
  {
   "cell_type": "code",
   "execution_count": 21,
   "metadata": {},
   "outputs": [
    {
     "name": "stdout",
     "output_type": "stream",
     "text": [
      "<class 'pandas.core.frame.DataFrame'>\n",
      "MultiIndex: 437565 entries, ('AAL', Timestamp('2005-09-27 00:00:00')) to ('XOM', Timestamp('2020-11-11 00:00:00'))\n",
      "Data columns (total 7 columns):\n",
      " #   Column             Non-Null Count   Dtype  \n",
      "---  ------             --------------   -----  \n",
      " 0   open               437565 non-null  float64\n",
      " 1   high               437565 non-null  float64\n",
      " 2   low                437565 non-null  float64\n",
      " 3   close              437565 non-null  float64\n",
      " 4   close_adjusted     437565 non-null  float64\n",
      " 5   volume             437565 non-null  int64  \n",
      " 6   split_coefficient  437565 non-null  float64\n",
      "dtypes: float64(6), int64(1)\n",
      "memory usage: 24.8+ MB\n",
      "None\n"
     ]
    }
   ],
   "source": [
    "pr_df.rename({'symbol':'ticker'}, axis=1, inplace=True) # need to normalize what the ticker/symbol column name is\n",
    "pr_df2 = pr_df.set_index(['ticker', 'date']).sort_index()\n",
    "print(pr_df2.info())"
   ]
  },
  {
   "cell_type": "code",
   "execution_count": 22,
   "metadata": {},
   "outputs": [
    {
     "name": "stdout",
     "output_type": "stream",
     "text": [
      "                    open   high    low  close  close_adjusted    volume  \\\n",
      "ticker date                                                               \n",
      "AAL    2005-09-27  21.05  21.40  19.10  19.30         18.6645   2576944   \n",
      "       2005-09-28  19.30  20.53  19.20  20.50         19.8250  15409920   \n",
      "       2005-09-29  20.40  20.58  20.10  20.21         19.5445   2890617   \n",
      "       2005-09-30  20.26  21.05  20.18  21.01         20.3182   8373458   \n",
      "       2005-10-03  20.90  21.75  20.90  21.50         20.7920   2836193   \n",
      "\n",
      "                   split_coefficient  \n",
      "ticker date                           \n",
      "AAL    2005-09-27                1.0  \n",
      "       2005-09-28                1.0  \n",
      "       2005-09-29                1.0  \n",
      "       2005-09-30                1.0  \n",
      "       2005-10-03                1.0  \n"
     ]
    }
   ],
   "source": [
    "print(pr_df2.head())"
   ]
  },
  {
   "cell_type": "code",
   "execution_count": 31,
   "metadata": {},
   "outputs": [
    {
     "name": "stdout",
     "output_type": "stream",
     "text": [
      "<class 'pandas.core.frame.DataFrame'>\n",
      "MultiIndex: 2743 entries, ('AAL', Timestamp('2010-07-21 00:00:00')) to ('XOM', Timestamp('2019-05-02 00:00:00'))\n",
      "Data columns (total 39 columns):\n",
      " #   Column                            Non-Null Count  Dtype  \n",
      "---  ------                            --------------  -----  \n",
      " 0   index                             2743 non-null   int64  \n",
      " 1   commonstocksharesissued           2471 non-null   float64\n",
      " 2   assetscurrent                     2375 non-null   float64\n",
      " 3   accountspayablecurrent            2083 non-null   float64\n",
      " 4   commonstockvalue                  2160 non-null   float64\n",
      " 5   liabilities                       1751 non-null   float64\n",
      " 6   liabilitiesandstockholdersequity  2743 non-null   float64\n",
      " 7   stockholdersequity                2503 non-null   float64\n",
      " 8   earningspersharebasic             2739 non-null   float64\n",
      " 9   netincomeloss                     2639 non-null   float64\n",
      " 10  profitloss                        1906 non-null   float64\n",
      " 11  costofgoodssold                   1168 non-null   float64\n",
      " 12  costsandexpenses                  1089 non-null   float64\n",
      " 13  cash                              635 non-null    float64\n",
      " 14  notespayable                      345 non-null    float64\n",
      " 15  preferredstockvalue               323 non-null    float64\n",
      " 16  depreciation                      1815 non-null   float64\n",
      " 17  operatingexpenses                 855 non-null    float64\n",
      " 18  revenues                          2072 non-null   float64\n",
      " 19  land                              757 non-null    float64\n",
      " 20  accountsreceivablenet             222 non-null    float64\n",
      " 21  deferredrevenue                   461 non-null    float64\n",
      " 22  grossprofit                       1259 non-null   float64\n",
      " 23  sharesissued                      882 non-null    float64\n",
      " 24  accruedincometaxes                126 non-null    float64\n",
      " 25  sharesoutstanding                 400 non-null    float64\n",
      " 26  borrowedfunds                     18 non-null     float64\n",
      " 27  inventorygross                    196 non-null    float64\n",
      " 28  commercialpaper                   1093 non-null   float64\n",
      " 29  dividends                         421 non-null    float64\n",
      " 30  commonstocknoparvalue             6 non-null      float64\n",
      " 31  costofservices                    500 non-null    float64\n",
      " 32  debtcurrent                       1230 non-null   float64\n",
      " 33  accruedinsurancecurrent           183 non-null    float64\n",
      " 34  officerscompensation              16 non-null     float64\n",
      " 35  salariesandwages                  39 non-null     float64\n",
      " 36  interestanddebtexpense            385 non-null    float64\n",
      " 37  convertibledebt                   124 non-null    float64\n",
      " 38  operatingcycle                    34 non-null     object \n",
      "dtypes: float64(37), int64(1), object(1)\n",
      "memory usage: 896.0+ KB\n",
      "None\n"
     ]
    }
   ],
   "source": [
    "hf_df3 = hf_df2.set_index(['ticker', 'date']).sort_index()\n",
    "print(hf_df3.info())"
   ]
  },
  {
   "cell_type": "code",
   "execution_count": 32,
   "metadata": {},
   "outputs": [
    {
     "name": "stdout",
     "output_type": "stream",
     "text": [
      "<class 'pandas.core.frame.DataFrame'>\n",
      "MultiIndex: 2743 entries, ('AAL', Timestamp('2010-07-21 00:00:00')) to ('XOM', Timestamp('2019-05-02 00:00:00'))\n",
      "Data columns (total 38 columns):\n",
      " #   Column                            Non-Null Count  Dtype  \n",
      "---  ------                            --------------  -----  \n",
      " 0   commonstocksharesissued           2471 non-null   float64\n",
      " 1   assetscurrent                     2375 non-null   float64\n",
      " 2   accountspayablecurrent            2083 non-null   float64\n",
      " 3   commonstockvalue                  2160 non-null   float64\n",
      " 4   liabilities                       1751 non-null   float64\n",
      " 5   liabilitiesandstockholdersequity  2743 non-null   float64\n",
      " 6   stockholdersequity                2503 non-null   float64\n",
      " 7   earningspersharebasic             2739 non-null   float64\n",
      " 8   netincomeloss                     2639 non-null   float64\n",
      " 9   profitloss                        1906 non-null   float64\n",
      " 10  costofgoodssold                   1168 non-null   float64\n",
      " 11  costsandexpenses                  1089 non-null   float64\n",
      " 12  cash                              635 non-null    float64\n",
      " 13  notespayable                      345 non-null    float64\n",
      " 14  preferredstockvalue               323 non-null    float64\n",
      " 15  depreciation                      1815 non-null   float64\n",
      " 16  operatingexpenses                 855 non-null    float64\n",
      " 17  revenues                          2072 non-null   float64\n",
      " 18  land                              757 non-null    float64\n",
      " 19  accountsreceivablenet             222 non-null    float64\n",
      " 20  deferredrevenue                   461 non-null    float64\n",
      " 21  grossprofit                       1259 non-null   float64\n",
      " 22  sharesissued                      882 non-null    float64\n",
      " 23  accruedincometaxes                126 non-null    float64\n",
      " 24  sharesoutstanding                 400 non-null    float64\n",
      " 25  borrowedfunds                     18 non-null     float64\n",
      " 26  inventorygross                    196 non-null    float64\n",
      " 27  commercialpaper                   1093 non-null   float64\n",
      " 28  dividends                         421 non-null    float64\n",
      " 29  commonstocknoparvalue             6 non-null      float64\n",
      " 30  costofservices                    500 non-null    float64\n",
      " 31  debtcurrent                       1230 non-null   float64\n",
      " 32  accruedinsurancecurrent           183 non-null    float64\n",
      " 33  officerscompensation              16 non-null     float64\n",
      " 34  salariesandwages                  39 non-null     float64\n",
      " 35  interestanddebtexpense            385 non-null    float64\n",
      " 36  convertibledebt                   124 non-null    float64\n",
      " 37  operatingcycle                    34 non-null     object \n",
      "dtypes: float64(37), object(1)\n",
      "memory usage: 874.6+ KB\n",
      "None\n"
     ]
    }
   ],
   "source": [
    "hf_df3.drop(labels='index', axis=1, inplace=True)\n",
    "print(hf_df3.info())"
   ]
  },
  {
   "cell_type": "code",
   "execution_count": 27,
   "metadata": {},
   "outputs": [
    {
     "name": "stdout",
     "output_type": "stream",
     "text": [
      "                    commonstocksharesissued  assetscurrent  \\\n",
      "ticker filing_date                                           \n",
      "AAL    2010-07-21               339389724.0   7.344000e+09   \n",
      "       2010-10-20               339389724.0   6.837000e+09   \n",
      "       2011-02-16               339389724.0   6.838000e+09   \n",
      "       2011-04-20               341207797.0   8.825000e+09   \n",
      "       2011-07-20               341207797.0   7.997000e+09   \n",
      "\n",
      "                    accountspayablecurrent  commonstockvalue  liabilities  \\\n",
      "ticker filing_date                                                          \n",
      "AAL    2010-07-21             1.305000e+09       339000000.0          NaN   \n",
      "       2010-10-20             1.220000e+09       339000000.0          NaN   \n",
      "       2011-02-16             1.156000e+09       339000000.0          NaN   \n",
      "       2011-04-20             1.267000e+09       339000000.0          NaN   \n",
      "       2011-07-20             1.291000e+09       341000000.0          NaN   \n",
      "\n",
      "                    liabilitiesandstockholdersequity  stockholdersequity  \\\n",
      "ticker filing_date                                                         \n",
      "AAL    2010-07-21                       2.588500e+10       -3.930000e+09   \n",
      "       2010-10-20                       2.535700e+10       -3.643000e+09   \n",
      "       2011-02-16                       2.508800e+10       -5.607000e+09   \n",
      "       2011-04-20                       2.711300e+10       -3.949000e+09   \n",
      "       2011-07-20                       2.578700e+10       -4.509000e+09   \n",
      "\n",
      "                    earningspersharebasic  netincomeloss  profitloss  ...  \\\n",
      "ticker filing_date                                                    ...   \n",
      "AAL    2010-07-21                   -0.03    -11000000.0         NaN  ...   \n",
      "       2010-10-20                    0.43    143000000.0         NaN  ...   \n",
      "       2011-02-16                   -1.41   -471000000.0         NaN  ...   \n",
      "       2011-04-20                   -1.31   -436000000.0         NaN  ...   \n",
      "       2011-07-20                   -0.85   -286000000.0         NaN  ...   \n",
      "\n",
      "                    dividends  commonstocknoparvalue  costofservices  \\\n",
      "ticker filing_date                                                     \n",
      "AAL    2010-07-21         NaN                    NaN             NaN   \n",
      "       2010-10-20         NaN                    NaN             NaN   \n",
      "       2011-02-16         NaN                    NaN             NaN   \n",
      "       2011-04-20         NaN                    NaN             NaN   \n",
      "       2011-07-20         NaN                    NaN             NaN   \n",
      "\n",
      "                    debtcurrent  accruedinsurancecurrent  \\\n",
      "ticker filing_date                                         \n",
      "AAL    2010-07-21           NaN                      NaN   \n",
      "       2010-10-20           NaN                      NaN   \n",
      "       2011-02-16           NaN                      NaN   \n",
      "       2011-04-20           NaN                      NaN   \n",
      "       2011-07-20           NaN                      NaN   \n",
      "\n",
      "                    officerscompensation  salariesandwages  \\\n",
      "ticker filing_date                                           \n",
      "AAL    2010-07-21                    NaN               NaN   \n",
      "       2010-10-20                    NaN               NaN   \n",
      "       2011-02-16                    NaN               NaN   \n",
      "       2011-04-20                    NaN               NaN   \n",
      "       2011-07-20                    NaN               NaN   \n",
      "\n",
      "                    interestanddebtexpense  convertibledebt  operatingcycle  \n",
      "ticker filing_date                                                           \n",
      "AAL    2010-07-21                      NaN              NaN             NaN  \n",
      "       2010-10-20                      NaN              NaN             NaN  \n",
      "       2011-02-16                      NaN              NaN             NaN  \n",
      "       2011-04-20                      NaN              NaN             NaN  \n",
      "       2011-07-20                      NaN              NaN             NaN  \n",
      "\n",
      "[5 rows x 38 columns]\n"
     ]
    }
   ],
   "source": [
    "print(hf_df3.head())"
   ]
  },
  {
   "cell_type": "markdown",
   "metadata": {},
   "source": [
    "### Pull out 3 close prices per filing date"
   ]
  },
  {
   "cell_type": "code",
   "execution_count": 35,
   "metadata": {},
   "outputs": [],
   "source": [
    "# in pseudocode, I want to:\n",
    "# for each ticker and filing date in hf_df (currently df3):\n",
    "#     retrieve the closing price for the same ticker and date from pr_df(currently df2), stored as a new column in hf_df\n",
    "#     retrieve the closing price for the same ticker and date-1, stored as another new column in hf_df\n",
    "#     retrieve the closing price for the same ticker and date+1, stored as a third new column in hf_df\n",
    "# option on storing the 3 columns in their own dataframe on the way to merging into hf_df\n",
    "\n",
    "# research:\n",
    "# https://stackoverflow.com/questions/50655370/filtering-the-dataframe-based-on-the-column-value-of-another-dataframe\n",
    "# https://datascience.stackexchange.com/questions/47562/multiple-filtering-pandas-columns-based-on-values-in-another-column\n",
    "# https://pandas.pydata.org/docs/user_guide/indexing.html#selection-by-callable\n",
    "# also looking at merge (inner join could work for same-date, but how to only get the \"close\" column?)\n",
    "# indexing with query or where methods?\n",
    "\n",
    "# I suspect I need to make my \"date\" fields the same name for indexes to match... done that\n",
    "\n",
    "test_df = hf_df3.merge(pr_df2, left_index=True, right_index=True)\n",
    "\n",
    "# suggestion to import SQL, merge doesn't really do query join, only exact matches:\n",
    "# https://stackoverflow.com/questions/30627968/merge-pandas-dataframes-where-one-value-is-between-two-others\n",
    "\n",
    "# \"interval index\" idea, although it seems to be panned as the slow way in above question:\n",
    "# https://stackoverflow.com/questions/46525786/how-to-join-two-dataframes-for-which-column-values-are-within-a-certain-range/46526249#46526249"
   ]
  },
  {
   "cell_type": "code",
   "execution_count": 36,
   "metadata": {},
   "outputs": [
    {
     "name": "stdout",
     "output_type": "stream",
     "text": [
      "<class 'pandas.core.frame.DataFrame'>\n",
      "MultiIndex: 2735 entries, ('AAL', Timestamp('2010-07-21 00:00:00')) to ('XOM', Timestamp('2019-05-02 00:00:00'))\n",
      "Data columns (total 45 columns):\n",
      " #   Column                            Non-Null Count  Dtype  \n",
      "---  ------                            --------------  -----  \n",
      " 0   commonstocksharesissued           2464 non-null   float64\n",
      " 1   assetscurrent                     2367 non-null   float64\n",
      " 2   accountspayablecurrent            2076 non-null   float64\n",
      " 3   commonstockvalue                  2153 non-null   float64\n",
      " 4   liabilities                       1746 non-null   float64\n",
      " 5   liabilitiesandstockholdersequity  2735 non-null   float64\n",
      " 6   stockholdersequity                2495 non-null   float64\n",
      " 7   earningspersharebasic             2733 non-null   float64\n",
      " 8   netincomeloss                     2631 non-null   float64\n",
      " 9   profitloss                        1902 non-null   float64\n",
      " 10  costofgoodssold                   1164 non-null   float64\n",
      " 11  costsandexpenses                  1086 non-null   float64\n",
      " 12  cash                              632 non-null    float64\n",
      " 13  notespayable                      345 non-null    float64\n",
      " 14  preferredstockvalue               323 non-null    float64\n",
      " 15  depreciation                      1809 non-null   float64\n",
      " 16  operatingexpenses                 854 non-null    float64\n",
      " 17  revenues                          2066 non-null   float64\n",
      " 18  land                              755 non-null    float64\n",
      " 19  accountsreceivablenet             221 non-null    float64\n",
      " 20  deferredrevenue                   459 non-null    float64\n",
      " 21  grossprofit                       1255 non-null   float64\n",
      " 22  sharesissued                      881 non-null    float64\n",
      " 23  accruedincometaxes                126 non-null    float64\n",
      " 24  sharesoutstanding                 398 non-null    float64\n",
      " 25  borrowedfunds                     18 non-null     float64\n",
      " 26  inventorygross                    196 non-null    float64\n",
      " 27  commercialpaper                   1088 non-null   float64\n",
      " 28  dividends                         420 non-null    float64\n",
      " 29  commonstocknoparvalue             6 non-null      float64\n",
      " 30  costofservices                    498 non-null    float64\n",
      " 31  debtcurrent                       1226 non-null   float64\n",
      " 32  accruedinsurancecurrent           182 non-null    float64\n",
      " 33  officerscompensation              16 non-null     float64\n",
      " 34  salariesandwages                  39 non-null     float64\n",
      " 35  interestanddebtexpense            384 non-null    float64\n",
      " 36  convertibledebt                   124 non-null    float64\n",
      " 37  operatingcycle                    34 non-null     object \n",
      " 38  open                              2735 non-null   float64\n",
      " 39  high                              2735 non-null   float64\n",
      " 40  low                               2735 non-null   float64\n",
      " 41  close                             2735 non-null   float64\n",
      " 42  close_adjusted                    2735 non-null   float64\n",
      " 43  volume                            2735 non-null   int64  \n",
      " 44  split_coefficient                 2735 non-null   float64\n",
      "dtypes: float64(43), int64(1), object(1)\n",
      "memory usage: 1021.7+ KB\n",
      "None\n"
     ]
    }
   ],
   "source": [
    "print(test_df.info())"
   ]
  },
  {
   "cell_type": "markdown",
   "metadata": {},
   "source": [
    "This is good for same-date. Do I want to also keep volume info for all 3 dates? I'd like to try..."
   ]
  },
  {
   "cell_type": "code",
   "execution_count": null,
   "metadata": {},
   "outputs": [],
   "source": []
  }
 ],
 "metadata": {
  "kernelspec": {
   "display_name": "Python 3",
   "language": "python",
   "name": "python3"
  },
  "language_info": {
   "codemirror_mode": {
    "name": "ipython",
    "version": 3
   },
   "file_extension": ".py",
   "mimetype": "text/x-python",
   "name": "python",
   "nbconvert_exporter": "python",
   "pygments_lexer": "ipython3",
   "version": "3.8.5"
  }
 },
 "nbformat": 4,
 "nbformat_minor": 4
}
