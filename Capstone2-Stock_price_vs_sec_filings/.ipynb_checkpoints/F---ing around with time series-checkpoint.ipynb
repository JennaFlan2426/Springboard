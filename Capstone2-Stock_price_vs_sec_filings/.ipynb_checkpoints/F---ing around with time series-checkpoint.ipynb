{
 "cells": [
  {
   "cell_type": "markdown",
   "metadata": {},
   "source": [
    "See statsmodels for trending and seasonality (do this for one stock first)\n",
    "https://www.statsmodels.org/dev/examples/notebooks/generated/stationarity_detrending_adf_kpss.html\n",
    "then\n",
    "https://www.statsmodels.org/dev/examples/notebooks/generated/stl_decomposition.html\n",
    "Reread arima notes, I'm getting lost on the math\n",
    "https://robjhyndman.com/hyndsight/arimax/\n",
    "https://www.statsmodels.org/dev/statespace.html\n",
    "Also look more at series filters\n",
    "https://www.statsmodels.org/dev/examples/notebooks/generated/tsa_filters.html\n",
    "Do another for messing around with decision trees? Will stock go up/down lot/little?\n",
    "Run PCA on the data (or what's the version of PCA that keeps the component identities?)\n",
    "** just drop the sparse columns, too complicated\n",
    "** where would I get inflation info to detrend? Or can I let a model figure that out?"
   ]
  }
 ],
 "metadata": {
  "kernelspec": {
   "display_name": "Python 3",
   "language": "python",
   "name": "python3"
  },
  "language_info": {
   "codemirror_mode": {
    "name": "ipython",
    "version": 3
   },
   "file_extension": ".py",
   "mimetype": "text/x-python",
   "name": "python",
   "nbconvert_exporter": "python",
   "pygments_lexer": "ipython3",
   "version": "3.8.5"
  }
 },
 "nbformat": 4,
 "nbformat_minor": 4
}
