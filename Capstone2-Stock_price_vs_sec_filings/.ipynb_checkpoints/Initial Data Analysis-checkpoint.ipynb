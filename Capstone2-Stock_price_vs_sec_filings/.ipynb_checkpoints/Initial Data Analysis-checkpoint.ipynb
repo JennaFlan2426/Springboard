{
 "cells": [
  {
   "cell_type": "markdown",
   "metadata": {},
   "source": [
    "Thinking out loud, at the beginning:\n",
    "    - Wow these files are big, I'm going to need to pare down the data probably a lot.\n",
    "    - First going to be looking for \"what's the most complete data that I have for what span of time\"?\n",
    "    - What data do I actually want to focus on? (record some research on how, broadly, one comes up with a company valuation that could be comparable to market capitalization)\n",
    "    - I probably should focus my market data gathering on the day after each SEC filing is released, assuming that will be the day that stock price movements are most influenced by the filing information rather than other news or factors.\n",
    "    - My core question so far is, are market prices correlated with valuation information in some fashion?\n",
    "        - If so, which valuation information is most strongly correlated?\n",
    "        - What, if any, is the relationship between stock price/market capitalization and the business's balance sheet?\n",
    "        - Do any of these data include attempts to put a value on intangibles such as goodwill/reputation?\n",
    "        - The fundamental analysis tradition focuses on ratios of price to earnings, book value, earnings growth; do the ratios that investors find acceptable change over time? Do they tend to change back (or ahead) when SEC filings are released?\n",
    "        - (Do I have time for this?) What happens in the periods between filings? Do prices maintain a range, like the moving average support/resistance bands favored by technical analysis?\n",
    "    - Therefore, what am I looking for in the data I've found so far?\n",
    "        - As much history as I can assemble from both market data and SEC filings; will need to drop years where I have one but not the other.\n",
    "        - Focus on the Fortune 100, probably choose the 100 as of the most recent year I have data for.\n",
    "        - Market data at daily granularity, hopefully with open, high, low, and close prices for each day. Probably focus on dates related to the company's SEC filings.\n",
    "        - Still deciding what SEC filing information, partially I don't know what I have to work with yet, hoping for a moderately quick thumbnail of value related to assets, liabilities, and maybe intangibles/goodwill. Assuming earnings-per-share numbers also will be found here.\n",
    "        - If market data has already calculated P/E or other ratios, great, I can use those to sanity-check what I'm pulling in from SEC."
   ]
  },
  {
   "cell_type": "markdown",
   "metadata": {},
   "source": [
    "First crack at a plan:"
   ]
  },
  {
   "attachments": {},
   "cell_type": "markdown",
   "metadata": {},
   "source": [
    "Open each dataset (I have 4 right now) individually, probably not in code. Need to see file structure and years covered. Make decision on how much history to collect/collate.\n",
    "    - Market datasets from:\n",
    "        - https://www.kaggle.com/borismarjanovic/price-volume-data-for-all-us-stocks-etfs\n",
    "            - description does not offer a begin date but last updated in 2017-Nov\n",
    "            - data appears to be in txt files by ticker: file for AAPL dates to 1984-Sep and columns are Date,Open,High,Low,Close,Volume,OpenInt\n",
    "            - there is a comment that prices in this data are adjusted for dividends AND splits (as opposed to Yahoo Finance data, which is not or not always--not sure what that means)\n",
    "        - https://www.kaggle.com/tsaustin/us-historical-stock-prices-with-earnings-data\n",
    "            - 20 years according to description; last updated 2020-Dec\n",
    "            - Data in 4 files: stock price, earnings (estimated and reported), dividends, and a summary\n",
    "    - SEC datasets from:\n",
    "        - https://www.kaggle.com/miguelaenlle/parsed-sec-10q-filings-since-2006\n",
    "            - Since 2006 according to description; Last updated 2020-Jul\n",
    "            - Notes that ~50% of data is null, which might be 'not found in filing' or 'not found by parser'.\n",
    "            - Does have lots of promising columns like commonstocksharesissued, assetscurrent, accountspayablecurrent, commonstockvalue, liabilities, liabilitiesandstockholdersequity, stockholdersequity, earningspersharebasic, netincomeloss, profitloss, costofgoodssold, filing_date, costsandexpenses, cash \n",
    "        - https://www.kaggle.com/finnhub/reported-financials\n",
    "            - 2010-2020, according to description. Last updated 2021-Mar\n",
    "            - 4 GB data!\n",
    "            - Data is in folders by year-qtr; JSON files. Will take some work, I think, to find the tickers I want.\n",
    "            \n",
    "So, I can probably get 2010-2020 reasonably complete. Maybe 2006-2020."
   ]
  },
  {
   "cell_type": "markdown",
   "metadata": {},
   "source": [
    "Open each dataset in code and examine columns. See if I can choose one market and one SEC dataset; do they contain the same information? Is there just a column or two from one I can add to the other?"
   ]
  },
  {
   "cell_type": "markdown",
   "metadata": {},
   "source": [
    "Choose 100 companies and pull their data into new files to reduce data sizes. "
   ]
  },
  {
   "cell_type": "markdown",
   "metadata": {},
   "source": [
    "Begin EDA, look for cleaning needs. "
   ]
  },
  {
   "cell_type": "markdown",
   "metadata": {},
   "source": [
    "Figure out how best to pull only the SEC-related dates of market data, assuming that dates will generally be different for each company."
   ]
  },
  {
   "cell_type": "markdown",
   "metadata": {},
   "source": [
    "Calculate (can I sanity-check somehow?) fundamental analysis ratios: P/E, P/E/G, price/book."
   ]
  },
  {
   "cell_type": "markdown",
   "metadata": {},
   "source": [
    "Other tasks as I think of them while exploring!\n",
    "    - Do I have data that shows market capitalization? Or shares outstanding, so I can calculate?\n",
    "    - How does one adjust prices for dividends, splits? What price do I need to use to calculate ratios, market cap, etc?"
   ]
  },
  {
   "cell_type": "markdown",
   "metadata": {},
   "source": [
    "Questions for later:\n",
    "    - Once I produce something with this, should I share it on Kaggle? If I've combined datasets, can I link my code to both of them?\n",
    "    - Can or should I try to confirm that Yahoo Finance is a bad place to get stock data from? (see notes on first market dataset above)"
   ]
  },
  {
   "cell_type": "markdown",
   "metadata": {},
   "source": [
    "Research:\n",
    "https://www.investopedia.com/terms/a/adjusted_closing_price.asp\n",
    "https://www.investopedia.com/articles/fundamental-analysis/08/sec-forms.asp"
   ]
  }
 ],
 "metadata": {
  "kernelspec": {
   "display_name": "Python 3",
   "language": "python",
   "name": "python3"
  },
  "language_info": {
   "codemirror_mode": {
    "name": "ipython",
    "version": 3
   },
   "file_extension": ".py",
   "mimetype": "text/x-python",
   "name": "python",
   "nbconvert_exporter": "python",
   "pygments_lexer": "ipython3",
   "version": "3.8.5"
  }
 },
 "nbformat": 4,
 "nbformat_minor": 4
}
