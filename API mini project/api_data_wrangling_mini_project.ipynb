{
 "cells": [
  {
   "cell_type": "markdown",
   "metadata": {},
   "source": [
    "This exercise will require you to pull some data from the Qunadl API. Qaundl is currently the most widely used aggregator of financial market data."
   ]
  },
  {
   "cell_type": "markdown",
   "metadata": {},
   "source": [
    "As a first step, you will need to register a free account on the http://www.quandl.com website."
   ]
  },
  {
   "cell_type": "markdown",
   "metadata": {},
   "source": [
    "After you register, you will be provided with a unique API key, that you should store:"
   ]
  },
  {
   "cell_type": "code",
   "execution_count": 1,
   "metadata": {},
   "outputs": [],
   "source": [
    "# Store the API key as a string - according to PEP8, constants are always named in all upper case\n",
    "API_KEY = 'your_key_here'"
   ]
  },
  {
   "cell_type": "markdown",
   "metadata": {},
   "source": [
    "Qaundl has a large number of data sources, but, unfortunately, most of them require a Premium subscription. Still, there are also a good number of free datasets."
   ]
  },
  {
   "cell_type": "markdown",
   "metadata": {},
   "source": [
    "For this mini project, we will focus on equities data from the Frankfurt Stock Exhange (FSE), which is available for free. We'll try and analyze the stock prices of a company called Carl Zeiss Meditec, which manufactures tools for eye examinations, as well as medical lasers for laser eye surgery: https://www.zeiss.com/meditec/int/home.html. The company is listed under the stock ticker AFX_X."
   ]
  },
  {
   "cell_type": "markdown",
   "metadata": {},
   "source": [
    "You can find the detailed Quandl API instructions here: https://docs.quandl.com/docs/time-series"
   ]
  },
  {
   "cell_type": "markdown",
   "metadata": {},
   "source": [
    "While there is a dedicated Python package for connecting to the Quandl API, we would prefer that you use the *requests* package, which can be easily downloaded using *pip* or *conda*. You can find the documentation for the package here: http://docs.python-requests.org/en/master/ "
   ]
  },
  {
   "cell_type": "markdown",
   "metadata": {},
   "source": [
    "Finally, apart from the *requests* package, you are encouraged to not use any third party Python packages, such as *pandas*, and instead focus on what's available in the Python Standard Library (the *collections* module might come in handy: https://pymotw.com/3/collections/ ).\n",
    "Also, since you won't have access to DataFrames, you are encouraged to us Python's native data structures - preferably dictionaries, though some questions can also be answered using lists.\n",
    "You can read more on these data structures here: https://docs.python.org/3/tutorial/datastructures.html"
   ]
  },
  {
   "cell_type": "markdown",
   "metadata": {},
   "source": [
    "Keep in mind that the JSON responses you will be getting from the API map almost one-to-one to Python's dictionaries. Unfortunately, they can be very nested, so make sure you read up on indexing dictionaries in the documentation provided above."
   ]
  },
  {
   "cell_type": "code",
   "execution_count": 2,
   "metadata": {},
   "outputs": [],
   "source": [
    "# First, import the relevant modules\n",
    "import requests\n",
    "import collections"
   ]
  },
  {
   "cell_type": "code",
   "execution_count": 3,
   "metadata": {},
   "outputs": [],
   "source": [
    "# Now, call the Quandl API and pull out a small sample of the data (only one day) to get a glimpse\n",
    "# into the JSON structure that will be returned\n",
    "\n",
    "url = \"https://www.quandl.com/api/v3/datasets/FSE/AFX_X.json?start_date=2017-01-02&end_date=2017-01-03\"\n",
    "resp = requests.get(url + '&api_key=' + API_KEY)\n",
    "json_data = resp.json()"
   ]
  },
  {
   "cell_type": "code",
   "execution_count": 4,
   "metadata": {},
   "outputs": [
    {
     "name": "stdout",
     "output_type": "stream",
     "text": [
      "dict_keys(['id', 'dataset_code', 'database_code', 'name', 'description', 'refreshed_at', 'newest_available_date', 'oldest_available_date', 'column_names', 'frequency', 'type', 'premium', 'limit', 'transform', 'column_index', 'start_date', 'end_date', 'data', 'collapse', 'order', 'database_id'])\n",
      "['Date', 'Open', 'High', 'Low', 'Close', 'Change', 'Traded Volume', 'Turnover', 'Last Price of the Day', 'Daily Traded Units', 'Daily Turnover']\n",
      "[['2017-01-03', 35.9, 35.93, 35.34, 35.48, None, 70618.0, 2515473.0, None, None, None], ['2017-01-02', 34.99, 35.94, 34.99, 35.8, None, 44700.0, 1590561.0, None, None, None]]\n"
     ]
    }
   ],
   "source": [
    "# Inspect the JSON structure of the object you created, and take note of how nested it is,\n",
    "# as well as the overall structure\n",
    "\n",
    "print(json_data['dataset'].keys())\n",
    "print(json_data['dataset']['column_names'])\n",
    "print(json_data['dataset']['data'])"
   ]
  },
  {
   "cell_type": "markdown",
   "metadata": {},
   "source": [
    "These are your tasks for this mini project:\n",
    "\n",
    "1. Collect data from the Franfurt Stock Exchange, for the ticker AFX_X, for the whole year 2017 (keep in mind that the date format is YYYY-MM-DD).\n",
    "2. Convert the returned JSON object into a Python dictionary.\n",
    "3. Calculate what the highest and lowest opening prices were for the stock in this period.\n",
    "4. What was the largest change in any one day (based on High and Low price)?\n",
    "5. What was the largest change between any two days (based on Closing Price)?\n",
    "6. What was the average daily trading volume during this year?\n",
    "7. (Optional) What was the median trading volume during this year. (Note: you may need to implement your own function for calculating the median.)"
   ]
  },
  {
   "cell_type": "code",
   "execution_count": 5,
   "metadata": {},
   "outputs": [],
   "source": [
    "# Collect data from the Franfurt Stock Exchange, for the ticker AFX_X, for the whole year 2017\n",
    "\n",
    "url2 = \"https://www.quandl.com/api/v3/datasets/FSE/AFX_X.json?start_date=2017-01-01&end_date=2017-12-31\"\n",
    "resp2 = requests.get(url2 + '&api_key=' + API_KEY)\n",
    "json_data2 = resp2.json()"
   ]
  },
  {
   "cell_type": "code",
   "execution_count": 6,
   "metadata": {},
   "outputs": [],
   "source": [
    "# Convert the returned JSON object into a Python dictionary\n",
    "\n",
    "dict_data = collections.defaultdict(list)\n",
    "for i in range(len(json_data2['dataset']['data'])):\n",
    "   for j in range(len(json_data2['dataset']['column_names'])):\n",
    "        dict_data[json_data2['dataset']['column_names'][j]].append(json_data2['dataset']['data'][i][j])"
   ]
  },
  {
   "cell_type": "code",
   "execution_count": 7,
   "metadata": {},
   "outputs": [
    {
     "name": "stdout",
     "output_type": "stream",
     "text": [
      "Lowest open: $34.00\n",
      "Highest open: $53.11\n"
     ]
    }
   ],
   "source": [
    "# Calculate what the highest and lowest opening prices were for the stock in this period.\n",
    "# Key sort found at https://stackoverflow.com/questions/18411560/sort-list-while-pushing-none-values-to-the-end\n",
    "\n",
    "sort_open = sorted(dict_data['Open'], key=lambda x: (x is None, x))\n",
    "while sort_open[-1] is None:\n",
    "    sort_open.pop()\n",
    "\n",
    "print('Lowest open: $' + f'{sort_open[0]:.2f}')\n",
    "print('Highest open: $' + f'{sort_open[-1]:.2f}')"
   ]
  },
  {
   "cell_type": "code",
   "execution_count": 8,
   "metadata": {},
   "outputs": [
    {
     "name": "stdout",
     "output_type": "stream",
     "text": [
      "Largest one-day change: $1.69\n"
     ]
    }
   ],
   "source": [
    "# Calculate the largest change in any one day \n",
    "\n",
    "open_close = list(zip(dict_data['Open'], dict_data['Close']))\n",
    "day_changes = []\n",
    "for pair in open_close:\n",
    "    if pair[0] is None or pair[1] is None:\n",
    "        day_changes.append(None)\n",
    "    else:\n",
    "        day_changes.append(pair[0] - pair[1])\n",
    "\n",
    "day_changes = sorted(day_changes, key=lambda x: (x is None, x))\n",
    "while day_changes[-1] is None:\n",
    "    day_changes.pop()\n",
    "\n",
    "print('Largest one-day change: $' + str(round(day_changes[-1], 2)))"
   ]
  },
  {
   "cell_type": "code",
   "execution_count": 9,
   "metadata": {},
   "outputs": [
    {
     "name": "stdout",
     "output_type": "stream",
     "text": [
      "Largest interday Close price change: $1.72\n"
     ]
    }
   ],
   "source": [
    "# Calcluate the largest change between any two days Closing Price\n",
    "\n",
    "close_to_close = []\n",
    "for i in range(len(dict_data['Close'])):\n",
    "    if i == len(dict_data['Close']) - 1:\n",
    "        close_to_close.append(None)\n",
    "    else:\n",
    "        if dict_data['Close'][i] is None or dict_data['Close'][i+1] is None:\n",
    "            close_to_close.append(None)\n",
    "        else:\n",
    "            close_to_close.append(dict_data['Close'][i] - dict_data['Close'][i+1])\n",
    "\n",
    "close_to_close = sorted(close_to_close, key=lambda x: (x is None, x))\n",
    "while close_to_close[-1] is None:\n",
    "    close_to_close.pop()\n",
    "print('Largest interday Close price change: $' + str(round(close_to_close[-1], 2)))"
   ]
  },
  {
   "cell_type": "code",
   "execution_count": 10,
   "metadata": {},
   "outputs": [
    {
     "name": "stdout",
     "output_type": "stream",
     "text": [
      "Mean Daily Trade Volume: 89124\n"
     ]
    }
   ],
   "source": [
    "# Calculate the average daily trading volume during this year\n",
    "\n",
    "volume_sorted = sorted(dict_data['Traded Volume'], key=lambda x: (x is None, x))\n",
    "vol_sum = 0\n",
    "for i in range(len(volume_sorted)):\n",
    "    if volume_sorted[i] is not None:\n",
    "        vol_sum += volume_sorted[i]\n",
    "print('Mean Daily Trade Volume: ' + f'{(vol_sum / len(volume_sorted)):.0f}')"
   ]
  },
  {
   "cell_type": "code",
   "execution_count": 11,
   "metadata": {},
   "outputs": [
    {
     "name": "stdout",
     "output_type": "stream",
     "text": [
      "Median Daily Trade Volume: 76286\n"
     ]
    }
   ],
   "source": [
    "# Calculate the median trading volume during this year\n",
    "\n",
    "def find_median(list_nums):\n",
    "    list_sorted = sorted(list_nums, key=lambda x: (x is None, x))\n",
    "    while list_sorted[-1] is None:\n",
    "        list_sorted.pop()\n",
    "    if len(list_sorted) % 2 == 0:\n",
    "        return (list_sorted[len(list_sorted) / 2] + list_sorted[(len(list_sorted) / 2) + 1]) // 2\n",
    "    else:\n",
    "        return list_sorted[len(list_sorted) // 2]\n",
    "\n",
    "                           \n",
    "print('Median Daily Trade Volume: ' + f'{find_median(volume_sorted):.0f}')\n"
   ]
  }
 ],
 "metadata": {
  "kernelspec": {
   "display_name": "Python 3",
   "language": "python",
   "name": "python3"
  },
  "language_info": {
   "codemirror_mode": {
    "name": "ipython",
    "version": 3
   },
   "file_extension": ".py",
   "mimetype": "text/x-python",
   "name": "python",
   "nbconvert_exporter": "python",
   "pygments_lexer": "ipython3",
   "version": "3.8.5"
  }
 },
 "nbformat": 4,
 "nbformat_minor": 2
}
