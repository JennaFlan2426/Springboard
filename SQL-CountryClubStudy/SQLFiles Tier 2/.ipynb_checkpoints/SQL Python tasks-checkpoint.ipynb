{
 "cells": [
  {
   "cell_type": "markdown",
   "metadata": {},
   "source": [
    "## PART 2: SQLite\n",
    "\n",
    "Export the country club data from PHPMyAdmin, and connect to a local SQLite instance from Jupyter notebook \n",
    "for the following questions.  "
   ]
  },
  {
   "cell_type": "code",
   "execution_count": 1,
   "metadata": {},
   "outputs": [],
   "source": [
    "from sqlalchemy import create_engine\n",
    "import pandas as pd\n",
    "\n",
    "engine = create_engine('sqlite:///sqlite_db_pythonsqlite.db')"
   ]
  },
  {
   "cell_type": "markdown",
   "metadata": {},
   "source": [
    "## QUESTIONS:\n",
    "Q10: Produce a list of facilities with a total revenue less than 1000.\n",
    "The output of facility name and total revenue, sorted by revenue. Remember\n",
    "that there's a different cost for guests and members!"
   ]
  },
  {
   "cell_type": "code",
   "execution_count": 3,
   "metadata": {},
   "outputs": [
    {
     "name": "stdout",
     "output_type": "stream",
     "text": [
      "        facility  revenue\n",
      "0   Table Tennis      180\n",
      "1  Snooker Table      240\n",
      "2     Pool Table      270\n"
     ]
    }
   ],
   "source": [
    "q10_query = \"SELECT f.name AS facility, SUM(CASE WHEN memid = 0 THEN f.guestcost * b.slots ELSE f.membercost * b.slots END) AS revenue FROM Bookings AS b INNER JOIN Facilities AS f USING(facid) WHERE (SELECT SUM(CASE WHEN memid = 0 THEN guestcost * slots ELSE membercost * slots END) FROM Bookings INNER JOIN Facilities USING(facid) WHERE b.facid = Bookings.facid GROUP BY Bookings.facid) < 1000 GROUP BY facid ORDER BY revenue;\"\n",
    "with engine.connect() as conn:\n",
    "    q10_df = pd.read_sql_query(q10_query, conn)\n",
    "    \n",
    "print(q10_df)"
   ]
  },
  {
   "cell_type": "markdown",
   "metadata": {},
   "source": [
    "#### Q11: Produce a report of members and who recommended them in alphabetic surname,firstname order"
   ]
  },
  {
   "cell_type": "code",
   "execution_count": 5,
   "metadata": {},
   "outputs": [
    {
     "name": "stdout",
     "output_type": "stream",
     "text": [
      "                      member         recommender\n",
      "0            Bader, Florence    Stibbons, Ponder\n",
      "1                Baker, Anne    Stibbons, Ponder\n",
      "2             Baker, Timothy     Farrell, Jemima\n",
      "3                Boothe, Tim         Rownam, Tim\n",
      "4            Butters, Gerald       Smith, Darren\n",
      "5               Coplin, Joan      Baker, Timothy\n",
      "6             Crumpet, Erica        Smith, Tracy\n",
      "7                Dare, Nancy    Joplette, Janice\n",
      "8             Farrell, David                None\n",
      "9            Farrell, Jemima                None\n",
      "10              GUEST, GUEST                None\n",
      "11          Genting, Matthew     Butters, Gerald\n",
      "12                Hunt, John  Purview, Millicent\n",
      "13              Jones, David    Joplette, Janice\n",
      "14            Jones, Douglas        Jones, David\n",
      "15          Joplette, Janice       Smith, Darren\n",
      "16           Mackenzie, Anna       Smith, Darren\n",
      "17             Owen, Charles       Smith, Darren\n",
      "18             Pinker, David     Farrell, Jemima\n",
      "19        Purview, Millicent        Smith, Tracy\n",
      "20               Rownam, Tim                None\n",
      "21         Rumney, Henrietta    Genting, Matthew\n",
      "22         Sarwin, Ramnaresh     Bader, Florence\n",
      "23             Smith, Darren                None\n",
      "24             Smith, Darren                None\n",
      "25               Smith, Jack       Smith, Darren\n",
      "26              Smith, Tracy                None\n",
      "27          Stibbons, Ponder       Tracy, Burton\n",
      "28             Tracy, Burton                None\n",
      "29      Tupperware, Hyacinth                None\n",
      "30  Worthington-Smyth, Henry        Smith, Tracy\n"
     ]
    }
   ],
   "source": [
    "q11_query = \"SELECT (surname || ', ' || firstname) AS member, (SELECT (surname || ', ' || firstname) FROM Members WHERE Members.memid = m.recommendedby) AS recommender FROM Members AS m ORDER BY member\"\n",
    "with engine.connect() as conn:\n",
    "    q11_df = pd.read_sql_query(q11_query, conn)\n",
    "    \n",
    "print(q11_df)"
   ]
  },
  {
   "cell_type": "markdown",
   "metadata": {},
   "source": [
    "#### Q12: Find the facilities with their usage by member, but not guests "
   ]
  },
  {
   "cell_type": "code",
   "execution_count": 6,
   "metadata": {},
   "outputs": [
    {
     "name": "stdout",
     "output_type": "stream",
     "text": [
      "              name  mem_slots\n",
      "0   Tennis Court 1        957\n",
      "1   Tennis Court 2        882\n",
      "2  Badminton Court       1086\n",
      "3     Table Tennis        794\n",
      "4   Massage Room 1        884\n",
      "5   Massage Room 2         54\n",
      "6     Squash Court        418\n",
      "7    Snooker Table        860\n",
      "8       Pool Table        856\n"
     ]
    }
   ],
   "source": [
    "q12_query = \"SELECT f.name, SUM(b.slots) AS mem_slots FROM Bookings AS b INNER JOIN Facilities AS f USING(facid) WHERE b.memid > 0 GROUP BY b.facid\"\n",
    "with engine.connect() as conn:\n",
    "    q12_df = pd.read_sql_query(q12_query, conn)\n",
    "    \n",
    "print(q12_df)"
   ]
  },
  {
   "cell_type": "markdown",
   "metadata": {},
   "source": [
    "#### Q13: Find the facilities usage by month, but not guests"
   ]
  },
  {
   "cell_type": "code",
   "execution_count": 7,
   "metadata": {},
   "outputs": [
    {
     "name": "stdout",
     "output_type": "stream",
     "text": [
      "               name month  mem_slots\n",
      "0    Tennis Court 1    07        201\n",
      "1    Tennis Court 1    08        339\n",
      "2    Tennis Court 1    09        417\n",
      "3    Tennis Court 2    07        123\n",
      "4    Tennis Court 2    08        345\n",
      "5    Tennis Court 2    09        414\n",
      "6   Badminton Court    07        165\n",
      "7   Badminton Court    08        414\n",
      "8   Badminton Court    09        507\n",
      "9      Table Tennis    07         98\n",
      "10     Table Tennis    08        296\n",
      "11     Table Tennis    09        400\n",
      "12   Massage Room 1    07        166\n",
      "13   Massage Room 1    08        316\n",
      "14   Massage Room 1    09        402\n",
      "15   Massage Room 2    07          8\n",
      "16   Massage Room 2    08         18\n",
      "17   Massage Room 2    09         28\n",
      "18     Squash Court    07         50\n",
      "19     Squash Court    08        184\n",
      "20     Squash Court    09        184\n",
      "21    Snooker Table    07        140\n",
      "22    Snooker Table    08        316\n",
      "23    Snooker Table    09        404\n",
      "24       Pool Table    07        110\n",
      "25       Pool Table    08        303\n",
      "26       Pool Table    09        443\n"
     ]
    }
   ],
   "source": [
    "q13_query = \"SELECT f.name, strftime('%m', b.starttime) AS month, SUM(b.slots) AS mem_slots FROM Bookings AS b INNER JOIN Facilities AS f USING(facid) WHERE b.memid > 0 GROUP BY b.facid, month\"\n",
    "with engine.connect() as conn:\n",
    "    q13_df = pd.read_sql_query(q13_query, conn)\n",
    "    \n",
    "print(q13_df)"
   ]
  },
  {
   "cell_type": "code",
   "execution_count": null,
   "metadata": {},
   "outputs": [],
   "source": []
  }
 ],
 "metadata": {
  "kernelspec": {
   "display_name": "Python 3",
   "language": "python",
   "name": "python3"
  },
  "language_info": {
   "codemirror_mode": {
    "name": "ipython",
    "version": 3
   },
   "file_extension": ".py",
   "mimetype": "text/x-python",
   "name": "python",
   "nbconvert_exporter": "python",
   "pygments_lexer": "ipython3",
   "version": "3.8.5"
  }
 },
 "nbformat": 4,
 "nbformat_minor": 4
}
