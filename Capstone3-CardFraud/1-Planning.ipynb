{
 "cells": [
  {
   "cell_type": "markdown",
   "id": "f9d62531",
   "metadata": {},
   "source": [
    "# Capstone 3: Detecting Card Fraud"
   ]
  },
  {
   "cell_type": "markdown",
   "id": "9d54f2bd",
   "metadata": {},
   "source": [
    "## Action Plan\n",
    "- Data Visualization, EDA, and cleaning\n",
    "    - Credit to https://www.kaggle.com/janiobachmann/credit-fraud-dealing-with-imbalanced-datasets\n",
    "    - and to https://www.kaggle.com/hazratnit/credit-fraud-detection\n",
    "    - easy/difficult visualization from https://www.researchgate.net/publication/283349138_Calibrating_Probability_with_Undersampling_for_Unbalanced_Classification (Section III-D)\n",
    "    - Data has already been run through PCA, except for \"Time\" and \"Amount\" which will need to be scaled to match the remaining columns\n",
    "    - Do the usual checking for nulls, describe T/A columns, visualize\n",
    "    - State mean/min/max of amount; percentage positive/negative\n",
    "    - Do correlation heatmap\n",
    "    - Do boxplots of highly positive/negative correlations\n",
    "    - Do easy/difficult histplots of the high correlations\n",
    "    - Consider outlier correction\n",
    "    - Scratch notebook: http://localhost:8888/notebooks/Capstone3-CardFraud/Data%20Wrangling.ipynb\n",
    "- Wrangling part 2: scaling and resampling\n",
    "    - Scale \"amount\" and \"time\" features to match remaining\n",
    "    - Check \"info\" on features to confirm scale\n",
    "    - Will need to subsample and/or oversample to balance classes\n",
    "    - Do comparative heatmaps, boxplots, histplots (see if I can save images from EDA)\n",
    "    - Retry easy/difficult visualization on sampled data\n",
    "    - Do the sampling BEFORE train/test splitting (! no, other way around? https://imbalanced-learn.org/stable/common_pitfalls.html)\n",
    "    - Remember outlier corrections\n",
    "    - Try both subsampling and oversampling to see if either produces \"better\" results\n",
    "    - Extra credit: repeat from the sampling step as a kind of cross-validation of the sampling tactic\n",
    "    - Scratch notebook: http://localhost:8888/notebooks/Capstone3-CardFraud/Wrangling%202-scaling%20and%20resampling.ipynb\n",
    "- Model Building\n",
    "    - Try several \"simple\" models for classification (pycaret or manual?)\n",
    "    - Compare with a neural net model\n",
    "    - to test: using sklearn class weight parameter instead of resampling (logistic/random forest)\n",
    "    - use extratrees model instead of random forest\n",
    "    - Try creating extra features with square/cube (see sklearn polynomial features)\n",
    "    - Possibly, test my favorite model with outlier removal."
   ]
  },
  {
   "cell_type": "code",
   "execution_count": null,
   "id": "14bf644c",
   "metadata": {},
   "outputs": [],
   "source": []
  }
 ],
 "metadata": {
  "kernelspec": {
   "display_name": "Python 3",
   "language": "python",
   "name": "python3"
  },
  "language_info": {
   "codemirror_mode": {
    "name": "ipython",
    "version": 3
   },
   "file_extension": ".py",
   "mimetype": "text/x-python",
   "name": "python",
   "nbconvert_exporter": "python",
   "pygments_lexer": "ipython3",
   "version": "3.8.8"
  }
 },
 "nbformat": 4,
 "nbformat_minor": 5
}
