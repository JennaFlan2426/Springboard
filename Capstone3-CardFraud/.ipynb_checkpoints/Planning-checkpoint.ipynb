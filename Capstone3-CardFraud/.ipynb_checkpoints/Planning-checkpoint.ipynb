{
 "cells": [
  {
   "cell_type": "markdown",
   "id": "f9d62531",
   "metadata": {},
   "source": [
    "# Capstone 3: Detecting Card Fraud"
   ]
  },
  {
   "cell_type": "markdown",
   "id": "9d54f2bd",
   "metadata": {},
   "source": [
    "## Action Plan\n",
    "- Data Visualization, EDA, and cleaning\n",
    "    - Credit to https://www.kaggle.com/janiobachmann/credit-fraud-dealing-with-imbalanced-datasets\n",
    "    - and to https://www.kaggle.com/hazratnit/credit-fraud-detection\n",
    "    - easy/difficult visualization from https://www.researchgate.net/publication/283349138_Calibrating_Probability_with_Undersampling_for_Unbalanced_Classification (Section III-D)\n",
    "    - Data has already been run through PCA, except for \"Time\" and \"Amount\" which will need to be scaled to match the remaining columns\n",
    "    - Do the usual checking for nulls, describe T/A columns, visualize\n",
    "    - State mean/min/max of amount; percentage positive/negative\n",
    "    - Do correlation heatmap\n",
    "    - Do boxplots of highly positive/negative correlations\n",
    "    - Do easy/difficult histplots of the high correlations\n",
    "    - Consider outlier correction\n",
    "    - Scratch notebook: http://localhost:8888/notebooks/Capstone3-CardFraud/Data%20Wrangling.ipynb\n",
    "- Feature Engineering\n",
    "    - Will need to subsample and/or oversample to balance classes\n",
    "    - Do comparative heatmaps, boxplots, histplots (see if I can save images from EDA)"
   ]
  }
 ],
 "metadata": {
  "kernelspec": {
   "display_name": "Python 3 (ipykernel)",
   "language": "python",
   "name": "python3"
  },
  "language_info": {
   "codemirror_mode": {
    "name": "ipython",
    "version": 3
   },
   "file_extension": ".py",
   "mimetype": "text/x-python",
   "name": "python",
   "nbconvert_exporter": "python",
   "pygments_lexer": "ipython3",
   "version": "3.8.10"
  }
 },
 "nbformat": 4,
 "nbformat_minor": 5
}
