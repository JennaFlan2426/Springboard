{
 "cells": [
  {
   "cell_type": "markdown",
   "id": "abb27814",
   "metadata": {},
   "source": [
    "# Model Building\n",
    "- Try several \"simple\" models for classification (pycaret or manual?)\n",
    "- Compare with a neural net model\n",
    "- to test: using sklearn class weight parameter instead of resampling (logistic/random forest)\n",
    "- use extratrees model instead of random forest\n",
    "- Try creating extra features with square/cube (see sklearn polynomial features)\n",
    "- Possibly, test my favorite model with outlier removal.\n",
    "- Credit for imbalanced-learn usage examples: https://imbalanced-learn.org/stable/common_pitfalls.html"
   ]
  },
  {
   "cell_type": "code",
   "execution_count": 5,
   "id": "95baa955",
   "metadata": {},
   "outputs": [],
   "source": [
    "# import libraries and load data\n",
    "import numpy as np \n",
    "import pandas as pd \n",
    "import matplotlib.pyplot as plt\n",
    "import seaborn as sns\n",
    "\n",
    "# scaling, sampling, and modeling tools\n",
    "from sklearn.model_selection import train_test_split\n",
    "from imblearn.over_sampling import SMOTE\n",
    "from imblearn.under_sampling import RandomUnderSampler\n",
    "from sklearn.preprocessing import StandardScaler\n",
    "from imblearn.pipeline import make_pipeline\n",
    "from sklearn.model_selection import cross_validate\n",
    "\n",
    "# basic models for testing\n",
    "from sklearn.linear_model import LogisticRegression\n",
    "from sklearn.svm import SVC\n",
    "from sklearn.neighbors import KNeighborsClassifier\n",
    "from sklearn.tree import DecisionTreeClassifier\n",
    "from sklearn.ensemble import ExtraTreesClassifier\n",
    "\n",
    "df = pd.read_csv('data\\creditcard.csv')"
   ]
  },
  {
   "cell_type": "code",
   "execution_count": 6,
   "id": "9596c69f",
   "metadata": {},
   "outputs": [],
   "source": [
    "# Scale \"amount\" and \"time\" features to match remaining\n",
    "std_scaler = StandardScaler()\n",
    "\n",
    "df['std_scaled_amount'] = std_scaler.fit_transform(df['Amount'].values.reshape(-1,1))\n",
    "df['std_scaled_time'] = std_scaler.fit_transform(df['Time'].values.reshape(-1,1))\n",
    "df.drop(['Time','Amount'], axis=1, inplace=True)"
   ]
  },
  {
   "cell_type": "code",
   "execution_count": 7,
   "id": "d040026c",
   "metadata": {},
   "outputs": [
    {
     "name": "stdout",
     "output_type": "stream",
     "text": [
      "Training Data contains 344 fraudulent transactions which are 0.173% of all transactions\n",
      "Test Data contains 148 fraudulent transactions which are 0.173% of all transactions\n",
      "Original Data contains 492 fraudulent transactions which are 0.173% of all transactions\n"
     ]
    }
   ],
   "source": [
    "# train/test split BEFORE under or over sampling\n",
    "X = df.drop('Class', axis=1)\n",
    "y = df['Class']\n",
    "\n",
    "X_train, X_test, y_train, y_test = train_test_split(X, y, test_size=0.3, stratify=y, random_state=42)\n",
    "\n",
    "# split Class balance evaluation\n",
    "classcount = y_train.value_counts()\n",
    "perc_pos = (classcount[1]/(classcount[0]+classcount[1]))*100\n",
    "print(\"Training Data contains {} fraudulent transactions which are {:.3f}% of all transactions\".format(classcount[1], perc_pos))\n",
    "classcount = y_test.value_counts()\n",
    "perc_pos = (classcount[1]/(classcount[0]+classcount[1]))*100\n",
    "print(\"Test Data contains {} fraudulent transactions which are {:.3f}% of all transactions\".format(classcount[1], perc_pos))\n",
    "print(\"Original Data contains 492 fraudulent transactions which are 0.173% of all transactions\") # calculated in data wrangling"
   ]
  },
  {
   "cell_type": "code",
   "execution_count": 8,
   "id": "aceb90b9",
   "metadata": {},
   "outputs": [
    {
     "name": "stdout",
     "output_type": "stream",
     "text": [
      "Weighted Logistic Regression, balanced accuracy mean +/- std. dev.: 0.950 +/- 0.010\n"
     ]
    }
   ],
   "source": [
    "# testing class weight parameter of logistic regression against undersampling and oversampling techniques\n",
    "logreg = LogisticRegression()\n",
    "subsample = RandomUnderSampler(random_state=42)\n",
    "oversample = SMOTE(random_state=42)\n",
    "logregwt = LogisticRegression(class_weight='balanced')\n",
    "\n",
    "# cross validate weighted logistic regression\n",
    "cv_results = cross_validate(logregwt, X_train, y_train, scoring=\"balanced_accuracy\",\n",
    "    return_train_score=True, return_estimator=True,\n",
    "    n_jobs=-1\n",
    "                           )\n",
    "print(f\"Weighted Logistic Regression, balanced accuracy mean +/- std. dev.: \"\n",
    "    f\"{cv_results['test_score'].mean():.3f} +/- \"\n",
    "    f\"{cv_results['test_score'].std():.3f}\")"
   ]
  },
  {
   "cell_type": "code",
   "execution_count": 12,
   "id": "927fb8dd",
   "metadata": {},
   "outputs": [
    {
     "name": "stdout",
     "output_type": "stream",
     "text": [
      "Subsampled Logistic Regression, balanced accuracy mean +/- std. dev.: 0.945 +/- 0.011\n"
     ]
    }
   ],
   "source": [
    "# testing pipeline with subsample and nonweighted logistic regression\n",
    "pipeline = make_pipeline(subsample, logreg)\n",
    "\n",
    "cv_results = cross_validate(pipeline, X_train, y_train, scoring=\"balanced_accuracy\",\n",
    "    return_train_score=True, return_estimator=True,\n",
    "    n_jobs=-1)\n",
    "\n",
    "print(f\"Subsampled Logistic Regression, balanced accuracy mean +/- std. dev.: \"\n",
    "    f\"{cv_results['test_score'].mean():.3f} +/- \"\n",
    "    f\"{cv_results['test_score'].std():.3f}\")"
   ]
  },
  {
   "cell_type": "code",
   "execution_count": 13,
   "id": "33761033",
   "metadata": {},
   "outputs": [
    {
     "name": "stdout",
     "output_type": "stream",
     "text": [
      "Oversampled Logistic Regression, balanced accuracy mean +/- std. dev.: 0.949 +/- 0.010\n"
     ]
    }
   ],
   "source": [
    "# testing pipeline with oversample and nonweighted logistic regression\n",
    "pipeline = make_pipeline(oversample, logreg)\n",
    "\n",
    "cv_results = cross_validate(pipeline, X_train, y_train, scoring=\"balanced_accuracy\",\n",
    "    return_train_score=True, return_estimator=True,\n",
    "    n_jobs=-1)\n",
    "\n",
    "print(f\"Oversampled Logistic Regression, balanced accuracy mean +/- std. dev.: \"\n",
    "    f\"{cv_results['test_score'].mean():.3f} +/- \"\n",
    "    f\"{cv_results['test_score'].std():.3f}\")"
   ]
  },
  {
   "cell_type": "code",
   "execution_count": 15,
   "id": "373b2509",
   "metadata": {},
   "outputs": [
    {
     "name": "stdout",
     "output_type": "stream",
     "text": [
      "Weighted Logistic Regression, balanced accuracy mean +/- std. dev.: 0.878 +/- 0.026\n"
     ]
    }
   ],
   "source": [
    "svcwt = SVC(random_state=42, class_weight='balanced')\n",
    "# cross validate weighted SVC\n",
    "cv_results = cross_validate(svcwt, X_train, y_train, scoring=\"balanced_accuracy\",\n",
    "    return_train_score=True, return_estimator=True,\n",
    "    n_jobs=-1)\n",
    "\n",
    "print(f\"Weighted SVC, balanced accuracy mean +/- std. dev.: \"\n",
    "    f\"{cv_results['test_score'].mean():.3f} +/- \"\n",
    "    f\"{cv_results['test_score'].std():.3f}\")"
   ]
  },
  {
   "cell_type": "code",
   "execution_count": 16,
   "id": "f635e6ff",
   "metadata": {},
   "outputs": [
    {
     "name": "stdout",
     "output_type": "stream",
     "text": [
      "Subsampled SVC, balanced accuracy mean +/- std. dev.: 0.940 +/- 0.013\n"
     ]
    }
   ],
   "source": [
    "# testing pipeline with subsample SVC\n",
    "svc = SVC(random_state=42)\n",
    "pipeline = make_pipeline(subsample, svc)\n",
    "\n",
    "cv_results = cross_validate(pipeline, X_train, y_train, scoring=\"balanced_accuracy\",\n",
    "    return_train_score=True, return_estimator=True,\n",
    "    n_jobs=-1)\n",
    "\n",
    "print(f\"Subsampled SVC, balanced accuracy mean +/- std. dev.: \"\n",
    "    f\"{cv_results['test_score'].mean():.3f} +/- \"\n",
    "    f\"{cv_results['test_score'].std():.3f}\")"
   ]
  },
  {
   "cell_type": "code",
   "execution_count": 17,
   "id": "45de1212",
   "metadata": {},
   "outputs": [
    {
     "name": "stdout",
     "output_type": "stream",
     "text": [
      "Oversampled SVC, balanced accuracy mean +/- std. dev.: 0.940 +/- 0.012\n"
     ]
    }
   ],
   "source": [
    "# testing pipeline with oversample and nonweighted SVC\n",
    "pipeline = make_pipeline(oversample, svc)\n",
    "\n",
    "cv_results = cross_validate(pipeline, X_train, y_train, scoring=\"balanced_accuracy\",\n",
    "    return_train_score=True, return_estimator=True,\n",
    "    n_jobs=-1)\n",
    "\n",
    "print(f\"Oversampled SVC, balanced accuracy mean +/- std. dev.: \"\n",
    "    f\"{cv_results['test_score'].mean():.3f} +/- \"\n",
    "    f\"{cv_results['test_score'].std():.3f}\")"
   ]
  },
  {
   "cell_type": "markdown",
   "id": "1acf1e3b",
   "metadata": {},
   "source": [
    "Mental note, SVC took a while, especially the oversample! Docs recommend LinearSVC for larger datasets..."
   ]
  },
  {
   "cell_type": "code",
   "execution_count": 18,
   "id": "587d8021",
   "metadata": {},
   "outputs": [
    {
     "name": "stdout",
     "output_type": "stream",
     "text": [
      "KNN original data, balanced accuracy mean +/- std. dev.: 0.888 +/- 0.014\n"
     ]
    }
   ],
   "source": [
    "knn = KNeighborsClassifier(n_jobs=-1)\n",
    "\n",
    "# do I need to subsample for neighbors or trees? Try without!\n",
    "cv_results = cross_validate(knn, X_train, y_train, scoring=\"balanced_accuracy\",\n",
    "    return_train_score=True, return_estimator=True,\n",
    "    n_jobs=-1)\n",
    "\n",
    "print(f\"KNN original data, balanced accuracy mean +/- std. dev.: \"\n",
    "    f\"{cv_results['test_score'].mean():.3f} +/- \"\n",
    "    f\"{cv_results['test_score'].std():.3f}\")"
   ]
  },
  {
   "cell_type": "code",
   "execution_count": 19,
   "id": "4cee08ee",
   "metadata": {},
   "outputs": [
    {
     "name": "stdout",
     "output_type": "stream",
     "text": [
      "Subsampled KNN, balanced accuracy mean +/- std. dev.: 0.935 +/- 0.015\n"
     ]
    }
   ],
   "source": [
    "# testing pipeline with subsample KNN\n",
    "pipeline = make_pipeline(subsample, knn)\n",
    "\n",
    "cv_results = cross_validate(pipeline, X_train, y_train, scoring=\"balanced_accuracy\",\n",
    "    return_train_score=True, return_estimator=True,\n",
    "    n_jobs=-1)\n",
    "\n",
    "print(f\"Subsampled KNN, balanced accuracy mean +/- std. dev.: \"\n",
    "    f\"{cv_results['test_score'].mean():.3f} +/- \"\n",
    "    f\"{cv_results['test_score'].std():.3f}\")"
   ]
  },
  {
   "cell_type": "code",
   "execution_count": 20,
   "id": "01722305",
   "metadata": {},
   "outputs": [
    {
     "name": "stdout",
     "output_type": "stream",
     "text": [
      "Oversampled KNN, balanced accuracy mean +/- std. dev.: 0.928 +/- 0.014\n"
     ]
    }
   ],
   "source": [
    "# testing pipeline with oversample KNN\n",
    "pipeline = make_pipeline(oversample, knn)\n",
    "\n",
    "cv_results = cross_validate(pipeline, X_train, y_train, scoring=\"balanced_accuracy\",\n",
    "    return_train_score=True, return_estimator=True,\n",
    "    n_jobs=-1)\n",
    "\n",
    "print(f\"Oversampled KNN, balanced accuracy mean +/- std. dev.: \"\n",
    "    f\"{cv_results['test_score'].mean():.3f} +/- \"\n",
    "    f\"{cv_results['test_score'].std():.3f}\")"
   ]
  },
  {
   "cell_type": "code",
   "execution_count": 21,
   "id": "e7c6b0ca",
   "metadata": {},
   "outputs": [
    {
     "name": "stdout",
     "output_type": "stream",
     "text": [
      "Decision Tree weighted, balanced accuracy mean +/- std. dev.: 0.862 +/- 0.019\n"
     ]
    }
   ],
   "source": [
    "dtreewt = DecisionTreeClassifier(random_state=42, class_weight='balanced')\n",
    "\n",
    "# do I need to subsample for neighbors or trees? Try without!\n",
    "cv_results = cross_validate(dtreewt, X_train, y_train, scoring=\"balanced_accuracy\",\n",
    "    return_train_score=True, return_estimator=True,\n",
    "    n_jobs=-1)\n",
    "\n",
    "print(f\"Decision Tree weighted, balanced accuracy mean +/- std. dev.: \"\n",
    "    f\"{cv_results['test_score'].mean():.3f} +/- \"\n",
    "    f\"{cv_results['test_score'].std():.3f}\")"
   ]
  },
  {
   "cell_type": "code",
   "execution_count": 22,
   "id": "f92fcfe5",
   "metadata": {},
   "outputs": [
    {
     "name": "stdout",
     "output_type": "stream",
     "text": [
      "Subsampled Decision Tree, balanced accuracy mean +/- std. dev.: 0.907 +/- 0.016\n"
     ]
    }
   ],
   "source": [
    "dtree = DecisionTreeClassifier(random_state=42)\n",
    "\n",
    "# testing pipeline with subsample decision tree\n",
    "pipeline = make_pipeline(subsample, dtree)\n",
    "\n",
    "cv_results = cross_validate(pipeline, X_train, y_train, scoring=\"balanced_accuracy\",\n",
    "    return_train_score=True, return_estimator=True,\n",
    "    n_jobs=-1)\n",
    "\n",
    "print(f\"Subsampled Decision Tree, balanced accuracy mean +/- std. dev.: \"\n",
    "    f\"{cv_results['test_score'].mean():.3f} +/- \"\n",
    "    f\"{cv_results['test_score'].std():.3f}\")"
   ]
  },
  {
   "cell_type": "code",
   "execution_count": 23,
   "id": "c20dabac",
   "metadata": {},
   "outputs": [
    {
     "name": "stdout",
     "output_type": "stream",
     "text": [
      "Oversampled Decision Tree, balanced accuracy mean +/- std. dev.: 0.896 +/- 0.009\n"
     ]
    }
   ],
   "source": [
    "# testing pipeline with oversample decision tree\n",
    "pipeline = make_pipeline(oversample, dtree)\n",
    "\n",
    "cv_results = cross_validate(pipeline, X_train, y_train, scoring=\"balanced_accuracy\",\n",
    "    return_train_score=True, return_estimator=True,\n",
    "    n_jobs=-1)\n",
    "\n",
    "print(f\"Oversampled Decision Tree, balanced accuracy mean +/- std. dev.: \"\n",
    "    f\"{cv_results['test_score'].mean():.3f} +/- \"\n",
    "    f\"{cv_results['test_score'].std():.3f}\")"
   ]
  },
  {
   "cell_type": "code",
   "execution_count": 24,
   "id": "56fef44e",
   "metadata": {},
   "outputs": [
    {
     "name": "stdout",
     "output_type": "stream",
     "text": [
      "Extra Trees weighted, balanced accuracy mean +/- std. dev.: 0.891 +/- 0.017\n"
     ]
    }
   ],
   "source": [
    "extreewt = ExtraTreesClassifier(random_state=42, class_weight='balanced')\n",
    "\n",
    "# do I need to subsample for neighbors or trees? Try without!\n",
    "cv_results = cross_validate(extreewt, X_train, y_train, scoring=\"balanced_accuracy\",\n",
    "    return_train_score=True, return_estimator=True,\n",
    "    n_jobs=-1)\n",
    "\n",
    "print(f\"Extra Trees weighted, balanced accuracy mean +/- std. dev.: \"\n",
    "    f\"{cv_results['test_score'].mean():.3f} +/- \"\n",
    "    f\"{cv_results['test_score'].std():.3f}\")"
   ]
  },
  {
   "cell_type": "code",
   "execution_count": 25,
   "id": "c7561433",
   "metadata": {},
   "outputs": [
    {
     "name": "stdout",
     "output_type": "stream",
     "text": [
      "Subsampled Extra Trees, balanced accuracy mean +/- std. dev.: 0.942 +/- 0.008\n"
     ]
    }
   ],
   "source": [
    "extree = ExtraTreesClassifier(random_state=42)\n",
    "\n",
    "# testing pipeline with subsample extra trees\n",
    "pipeline = make_pipeline(subsample, extree)\n",
    "\n",
    "cv_results = cross_validate(pipeline, X_train, y_train, scoring=\"balanced_accuracy\",\n",
    "    return_train_score=True, return_estimator=True,\n",
    "    n_jobs=-1)\n",
    "\n",
    "print(f\"Subsampled Extra Trees, balanced accuracy mean +/- std. dev.: \"\n",
    "    f\"{cv_results['test_score'].mean():.3f} +/- \"\n",
    "    f\"{cv_results['test_score'].std():.3f}\")"
   ]
  },
  {
   "cell_type": "code",
   "execution_count": 26,
   "id": "559755ab",
   "metadata": {},
   "outputs": [
    {
     "name": "stdout",
     "output_type": "stream",
     "text": [
      "Oversampled Extra Trees, balanced accuracy mean +/- std. dev.: 0.914 +/- 0.013\n"
     ]
    }
   ],
   "source": [
    "# testing pipeline with oversample extra trees\n",
    "pipeline = make_pipeline(oversample, extree)\n",
    "\n",
    "cv_results = cross_validate(pipeline, X_train, y_train, scoring=\"balanced_accuracy\",\n",
    "    return_train_score=True, return_estimator=True,\n",
    "    n_jobs=-1)\n",
    "\n",
    "print(f\"Oversampled Extra Trees, balanced accuracy mean +/- std. dev.: \"\n",
    "    f\"{cv_results['test_score'].mean():.3f} +/- \"\n",
    "    f\"{cv_results['test_score'].std():.3f}\")"
   ]
  },
  {
   "cell_type": "markdown",
   "id": "87d33fda",
   "metadata": {},
   "source": [
    "What else do I want to know from these models? Do I care about checking \"important\" features? Should I just go on to parameter tuning with one, or do a few and see if tuning improves one more than others?"
   ]
  },
  {
   "cell_type": "code",
   "execution_count": null,
   "id": "885e0519",
   "metadata": {},
   "outputs": [],
   "source": []
  }
 ],
 "metadata": {
  "kernelspec": {
   "display_name": "Python 3",
   "language": "python",
   "name": "python3"
  },
  "language_info": {
   "codemirror_mode": {
    "name": "ipython",
    "version": 3
   },
   "file_extension": ".py",
   "mimetype": "text/x-python",
   "name": "python",
   "nbconvert_exporter": "python",
   "pygments_lexer": "ipython3",
   "version": "3.8.8"
  }
 },
 "nbformat": 4,
 "nbformat_minor": 5
}
